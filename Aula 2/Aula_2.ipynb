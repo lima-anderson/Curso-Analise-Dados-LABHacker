{
  "nbformat": 4,
  "nbformat_minor": 0,
  "metadata": {
    "colab": {
      "name": "Aula 2",
      "provenance": [],
      "collapsed_sections": []
    },
    "kernelspec": {
      "name": "python3",
      "display_name": "Python 3"
    }
  },
  "cells": [
    {
      "cell_type": "code",
      "metadata": {
        "id": "gRAuXy5jALsH"
      },
      "source": [
        "# oca.ancine.gov.br\n",
        "import pandas as pd\n",
        "%matplotlib inline"
      ],
      "execution_count": null,
      "outputs": []
    },
    {
      "cell_type": "code",
      "metadata": {
        "id": "Du9OfXdvFBlp"
      },
      "source": [
        "df = pd.read_excel('/content/filmes.xlsx', skiprows=2, skipfooter=16)"
      ],
      "execution_count": null,
      "outputs": []
    },
    {
      "cell_type": "code",
      "metadata": {
        "colab": {
          "base_uri": "https://localhost:8080/"
        },
        "id": "vck08rebLhR0",
        "outputId": "01290767-48ec-421a-dfa5-e542b0e80607"
      },
      "source": [
        "df.shape"
      ],
      "execution_count": null,
      "outputs": [
        {
          "output_type": "execute_result",
          "data": {
            "text/plain": [
              "(5691, 10)"
            ]
          },
          "metadata": {
            "tags": []
          },
          "execution_count": 19
        }
      ]
    },
    {
      "cell_type": "code",
      "metadata": {
        "colab": {
          "base_uri": "https://localhost:8080/",
          "height": 328
        },
        "id": "GB-ncrozIT6B",
        "outputId": "73ebb662-620c-456b-e880-892e51d3db1c"
      },
      "source": [
        "df.head()"
      ],
      "execution_count": null,
      "outputs": [
        {
          "output_type": "execute_result",
          "data": {
            "text/html": [
              "<div>\n",
              "<style scoped>\n",
              "    .dataframe tbody tr th:only-of-type {\n",
              "        vertical-align: middle;\n",
              "    }\n",
              "\n",
              "    .dataframe tbody tr th {\n",
              "        vertical-align: top;\n",
              "    }\n",
              "\n",
              "    .dataframe thead th {\n",
              "        text-align: right;\n",
              "    }\n",
              "</style>\n",
              "<table border=\"1\" class=\"dataframe\">\n",
              "  <thead>\n",
              "    <tr style=\"text-align: right;\">\n",
              "      <th></th>\n",
              "      <th>Ano de exibição</th>\n",
              "      <th>Título da obra</th>\n",
              "      <th>Gênero</th>\n",
              "      <th>País(es) produtor(es) da obra</th>\n",
              "      <th>Nacionalidade da obra</th>\n",
              "      <th>Data de lançamento</th>\n",
              "      <th>Distribuidora</th>\n",
              "      <th>Origem da empresa distribuidora</th>\n",
              "      <th>Público no ano de exibição</th>\n",
              "      <th>Renda (R$) no ano de exibição</th>\n",
              "    </tr>\n",
              "  </thead>\n",
              "  <tbody>\n",
              "    <tr>\n",
              "      <th>0</th>\n",
              "      <td>2017</td>\n",
              "      <td>#Screamers</td>\n",
              "      <td>Ficção</td>\n",
              "      <td>Estados Unidos</td>\n",
              "      <td>Estrangeiros</td>\n",
              "      <td>2017-11-30 00:00:00</td>\n",
              "      <td>Cineart Filmes</td>\n",
              "      <td>Distribuição Nacional</td>\n",
              "      <td>714</td>\n",
              "      <td>9437.45</td>\n",
              "    </tr>\n",
              "    <tr>\n",
              "      <th>1</th>\n",
              "      <td>2017</td>\n",
              "      <td>10 Centavos para o Número da Besta</td>\n",
              "      <td>Documentário</td>\n",
              "      <td>Brasil</td>\n",
              "      <td>Brasileiros</td>\n",
              "      <td>2017-11-28 00:00:00</td>\n",
              "      <td>Ponto de Equilíbrio</td>\n",
              "      <td>Distribuição Nacional</td>\n",
              "      <td>7</td>\n",
              "      <td>63.00</td>\n",
              "    </tr>\n",
              "    <tr>\n",
              "      <th>2</th>\n",
              "      <td>2017</td>\n",
              "      <td>120 batimentos por minuto</td>\n",
              "      <td>Ficção</td>\n",
              "      <td>França</td>\n",
              "      <td>Estrangeiros</td>\n",
              "      <td>2018-01-04 00:00:00</td>\n",
              "      <td>Imovision</td>\n",
              "      <td>Distribuição Nacional</td>\n",
              "      <td>262</td>\n",
              "      <td>3791.63</td>\n",
              "    </tr>\n",
              "    <tr>\n",
              "      <th>3</th>\n",
              "      <td>2017</td>\n",
              "      <td>13 Minutos</td>\n",
              "      <td>Ficção</td>\n",
              "      <td>Alemanha</td>\n",
              "      <td>Estrangeiros</td>\n",
              "      <td>2016-11-03 00:00:00</td>\n",
              "      <td>Alphaville Filmes</td>\n",
              "      <td>Distribuição Nacional</td>\n",
              "      <td>620</td>\n",
              "      <td>6463.50</td>\n",
              "    </tr>\n",
              "    <tr>\n",
              "      <th>4</th>\n",
              "      <td>2017</td>\n",
              "      <td>150 Miligramas</td>\n",
              "      <td>Ficção</td>\n",
              "      <td>França</td>\n",
              "      <td>Estrangeiros</td>\n",
              "      <td>2017-08-31 00:00:00</td>\n",
              "      <td>Califórnia</td>\n",
              "      <td>Distribuição Nacional</td>\n",
              "      <td>771</td>\n",
              "      <td>10508.71</td>\n",
              "    </tr>\n",
              "  </tbody>\n",
              "</table>\n",
              "</div>"
            ],
            "text/plain": [
              "   Ano de exibição  ... Renda (R$) no ano de exibição\n",
              "0             2017  ...                       9437.45\n",
              "1             2017  ...                         63.00\n",
              "2             2017  ...                       3791.63\n",
              "3             2017  ...                       6463.50\n",
              "4             2017  ...                      10508.71\n",
              "\n",
              "[5 rows x 10 columns]"
            ]
          },
          "metadata": {
            "tags": []
          },
          "execution_count": 20
        }
      ]
    },
    {
      "cell_type": "code",
      "metadata": {
        "colab": {
          "base_uri": "https://localhost:8080/",
          "height": 345
        },
        "id": "o-5MkoH2IUg1",
        "outputId": "751741ec-64c7-452a-b71e-5613c43e2430"
      },
      "source": [
        "df.tail()"
      ],
      "execution_count": null,
      "outputs": [
        {
          "output_type": "execute_result",
          "data": {
            "text/html": [
              "<div>\n",
              "<style scoped>\n",
              "    .dataframe tbody tr th:only-of-type {\n",
              "        vertical-align: middle;\n",
              "    }\n",
              "\n",
              "    .dataframe tbody tr th {\n",
              "        vertical-align: top;\n",
              "    }\n",
              "\n",
              "    .dataframe thead th {\n",
              "        text-align: right;\n",
              "    }\n",
              "</style>\n",
              "<table border=\"1\" class=\"dataframe\">\n",
              "  <thead>\n",
              "    <tr style=\"text-align: right;\">\n",
              "      <th></th>\n",
              "      <th>Ano de exibição</th>\n",
              "      <th>Título da obra</th>\n",
              "      <th>Gênero</th>\n",
              "      <th>País(es) produtor(es) da obra</th>\n",
              "      <th>Nacionalidade da obra</th>\n",
              "      <th>Data de lançamento</th>\n",
              "      <th>Distribuidora</th>\n",
              "      <th>Origem da empresa distribuidora</th>\n",
              "      <th>Público no ano de exibição</th>\n",
              "      <th>Renda (R$) no ano de exibição</th>\n",
              "    </tr>\n",
              "  </thead>\n",
              "  <tbody>\n",
              "    <tr>\n",
              "      <th>5686</th>\n",
              "      <td>2009</td>\n",
              "      <td>X-Men Origens: Wolverine</td>\n",
              "      <td>Ficção</td>\n",
              "      <td>Estados Unidos</td>\n",
              "      <td>Estrangeiros</td>\n",
              "      <td>2009-05-01 00:00:00</td>\n",
              "      <td>Fox</td>\n",
              "      <td>Distribuição Internacional</td>\n",
              "      <td>3199434</td>\n",
              "      <td>27352313.00</td>\n",
              "    </tr>\n",
              "    <tr>\n",
              "      <th>5687</th>\n",
              "      <td>2009</td>\n",
              "      <td>Xuxa em o Mistério de Feiurinha</td>\n",
              "      <td>Ficção</td>\n",
              "      <td>Brasil</td>\n",
              "      <td>Brasileiros</td>\n",
              "      <td>2009-12-25 00:00:00</td>\n",
              "      <td>Playarte</td>\n",
              "      <td>Distribuição Nacional</td>\n",
              "      <td>250109</td>\n",
              "      <td>1766416.65</td>\n",
              "    </tr>\n",
              "    <tr>\n",
              "      <th>5688</th>\n",
              "      <td>2009</td>\n",
              "      <td>Xuxa em Sonho de Menina</td>\n",
              "      <td>Ficção</td>\n",
              "      <td>Brasil</td>\n",
              "      <td>Brasileiros</td>\n",
              "      <td>2007-12-21 00:00:00</td>\n",
              "      <td>Warner</td>\n",
              "      <td>Distribuição Internacional</td>\n",
              "      <td>8914</td>\n",
              "      <td>26880.00</td>\n",
              "    </tr>\n",
              "    <tr>\n",
              "      <th>5689</th>\n",
              "      <td>2009</td>\n",
              "      <td>Xuxa Gêmeas</td>\n",
              "      <td>Ficção</td>\n",
              "      <td>Brasil</td>\n",
              "      <td>Brasileiros</td>\n",
              "      <td>2006-12-15 00:00:00</td>\n",
              "      <td>Fox</td>\n",
              "      <td>Distribuição Internacional</td>\n",
              "      <td>1671</td>\n",
              "      <td>5013.00</td>\n",
              "    </tr>\n",
              "    <tr>\n",
              "      <th>5690</th>\n",
              "      <td>2009</td>\n",
              "      <td>Zico na Rede</td>\n",
              "      <td>Documentário</td>\n",
              "      <td>Brasil</td>\n",
              "      <td>Brasileiros</td>\n",
              "      <td>2009-07-03 00:00:00</td>\n",
              "      <td>Business Telecom</td>\n",
              "      <td>Distribuição Nacional</td>\n",
              "      <td>546</td>\n",
              "      <td>2529.50</td>\n",
              "    </tr>\n",
              "  </tbody>\n",
              "</table>\n",
              "</div>"
            ],
            "text/plain": [
              "      Ano de exibição  ... Renda (R$) no ano de exibição\n",
              "5686             2009  ...                   27352313.00\n",
              "5687             2009  ...                    1766416.65\n",
              "5688             2009  ...                      26880.00\n",
              "5689             2009  ...                       5013.00\n",
              "5690             2009  ...                       2529.50\n",
              "\n",
              "[5 rows x 10 columns]"
            ]
          },
          "metadata": {
            "tags": []
          },
          "execution_count": 21
        }
      ]
    },
    {
      "cell_type": "code",
      "metadata": {
        "colab": {
          "base_uri": "https://localhost:8080/"
        },
        "id": "aljBL8qSIiUi",
        "outputId": "2c6fce09-6921-4bf2-a030-6b7a8d9b83b8"
      },
      "source": [
        "df.dtypes"
      ],
      "execution_count": null,
      "outputs": [
        {
          "output_type": "execute_result",
          "data": {
            "text/plain": [
              "Ano de exibição                      int64\n",
              "Título da obra                      object\n",
              "Gênero                              object\n",
              "País(es) produtor(es) da obra       object\n",
              "Nacionalidade da obra               object\n",
              "Data de lançamento                  object\n",
              "Distribuidora                       object\n",
              "Origem da empresa distribuidora     object\n",
              "Público no ano de exibição           int64\n",
              "Renda (R$) no ano de exibição      float64\n",
              "dtype: object"
            ]
          },
          "metadata": {
            "tags": []
          },
          "execution_count": 22
        }
      ]
    },
    {
      "cell_type": "code",
      "metadata": {
        "id": "V38tyPMWJOxn"
      },
      "source": [
        "# df['Data de lançamento'] = pd.to_datetime(df['Data de lançamento'])\n",
        "# erro"
      ],
      "execution_count": null,
      "outputs": []
    },
    {
      "cell_type": "code",
      "metadata": {
        "colab": {
          "base_uri": "https://localhost:8080/"
        },
        "id": "k8VTMsjdKE0T",
        "outputId": "e9c4293b-0dde-4913-fa72-310e108300cc"
      },
      "source": [
        "df['Data de lançamento'].value_counts()\n",
        "# \"Relancameneto não é data\""
      ],
      "execution_count": null,
      "outputs": [
        {
          "output_type": "execute_result",
          "data": {
            "text/plain": [
              "Relançamento           175\n",
              "2015-12-03 00:00:00     33\n",
              "2012-12-21 00:00:00     33\n",
              "2013-11-29 00:00:00     29\n",
              "2012-11-02 00:00:00     27\n",
              "                      ... \n",
              "2018-03-29 00:00:00      1\n",
              "2002-11-01 00:00:00      1\n",
              "2004-11-12 00:00:00      1\n",
              "2007-05-25 00:00:00      1\n",
              "2006-06-02 00:00:00      1\n",
              "Name: Data de lançamento, Length: 759, dtype: int64"
            ]
          },
          "metadata": {
            "tags": []
          },
          "execution_count": 24
        }
      ]
    },
    {
      "cell_type": "code",
      "metadata": {
        "colab": {
          "base_uri": "https://localhost:8080/",
          "height": 206
        },
        "id": "kTTB_Vq8KNJQ",
        "outputId": "55147a3c-9b0e-4002-bdde-ae913c61de39"
      },
      "source": [
        "#Exibir filmes com a data \"Relancamento\"\n",
        "df[df['Data de lançamento'] == 'Relançamento'][['Ano de exibição', 'Título da obra', 'Gênero', 'Data de lançamento']].head()"
      ],
      "execution_count": null,
      "outputs": [
        {
          "output_type": "execute_result",
          "data": {
            "text/html": [
              "<div>\n",
              "<style scoped>\n",
              "    .dataframe tbody tr th:only-of-type {\n",
              "        vertical-align: middle;\n",
              "    }\n",
              "\n",
              "    .dataframe tbody tr th {\n",
              "        vertical-align: top;\n",
              "    }\n",
              "\n",
              "    .dataframe thead th {\n",
              "        text-align: right;\n",
              "    }\n",
              "</style>\n",
              "<table border=\"1\" class=\"dataframe\">\n",
              "  <thead>\n",
              "    <tr style=\"text-align: right;\">\n",
              "      <th></th>\n",
              "      <th>Ano de exibição</th>\n",
              "      <th>Título da obra</th>\n",
              "      <th>Gênero</th>\n",
              "      <th>Data de lançamento</th>\n",
              "    </tr>\n",
              "  </thead>\n",
              "  <tbody>\n",
              "    <tr>\n",
              "      <th>7</th>\n",
              "      <td>2017</td>\n",
              "      <td>8½</td>\n",
              "      <td>Ficção</td>\n",
              "      <td>Relançamento</td>\n",
              "    </tr>\n",
              "    <tr>\n",
              "      <th>11</th>\n",
              "      <td>2017</td>\n",
              "      <td>A bela da tarde</td>\n",
              "      <td>Ficção</td>\n",
              "      <td>Relançamento</td>\n",
              "    </tr>\n",
              "    <tr>\n",
              "      <th>36</th>\n",
              "      <td>2017</td>\n",
              "      <td>A História sem Fim</td>\n",
              "      <td>Ficção</td>\n",
              "      <td>Relançamento</td>\n",
              "    </tr>\n",
              "    <tr>\n",
              "      <th>53</th>\n",
              "      <td>2017</td>\n",
              "      <td>A primeira noite de um homem</td>\n",
              "      <td>Ficção</td>\n",
              "      <td>Relançamento</td>\n",
              "    </tr>\n",
              "    <tr>\n",
              "      <th>128</th>\n",
              "      <td>2017</td>\n",
              "      <td>Ballet Bolshoi: A bela adormecida</td>\n",
              "      <td>Vídeomusical</td>\n",
              "      <td>Relançamento</td>\n",
              "    </tr>\n",
              "  </tbody>\n",
              "</table>\n",
              "</div>"
            ],
            "text/plain": [
              "     Ano de exibição  ... Data de lançamento\n",
              "7               2017  ...       Relançamento\n",
              "11              2017  ...       Relançamento\n",
              "36              2017  ...       Relançamento\n",
              "53              2017  ...       Relançamento\n",
              "128             2017  ...       Relançamento\n",
              "\n",
              "[5 rows x 4 columns]"
            ]
          },
          "metadata": {
            "tags": []
          },
          "execution_count": 25
        }
      ]
    },
    {
      "cell_type": "code",
      "metadata": {
        "id": "p8Ejj9AnKgGF"
      },
      "source": [
        "# criar novo dataframe com copy\n",
        "df2 = df[df['Data de lançamento'] != 'Relançamento'].copy()"
      ],
      "execution_count": null,
      "outputs": []
    },
    {
      "cell_type": "code",
      "metadata": {
        "colab": {
          "base_uri": "https://localhost:8080/"
        },
        "id": "754qgJOuML5x",
        "outputId": "aa88acb8-81f6-49ab-e3e5-e0ee2c09c299"
      },
      "source": [
        "df2.dtypes"
      ],
      "execution_count": null,
      "outputs": [
        {
          "output_type": "execute_result",
          "data": {
            "text/plain": [
              "Ano de exibição                      int64\n",
              "Título da obra                      object\n",
              "Gênero                              object\n",
              "País(es) produtor(es) da obra       object\n",
              "Nacionalidade da obra               object\n",
              "Data de lançamento                  object\n",
              "Distribuidora                       object\n",
              "Origem da empresa distribuidora     object\n",
              "Público no ano de exibição           int64\n",
              "Renda (R$) no ano de exibição      float64\n",
              "dtype: object"
            ]
          },
          "metadata": {
            "tags": []
          },
          "execution_count": 27
        }
      ]
    },
    {
      "cell_type": "code",
      "metadata": {
        "id": "B_57TuAaMOAX"
      },
      "source": [
        "df2['Data de lançamento'] = pd.to_datetime(df2['Data de lançamento'])"
      ],
      "execution_count": null,
      "outputs": []
    },
    {
      "cell_type": "code",
      "metadata": {
        "colab": {
          "base_uri": "https://localhost:8080/"
        },
        "id": "n7wlc876MUY0",
        "outputId": "51cae59a-1670-4b72-b66d-94003e35b14d"
      },
      "source": [
        "df2.dtypes"
      ],
      "execution_count": null,
      "outputs": [
        {
          "output_type": "execute_result",
          "data": {
            "text/plain": [
              "Ano de exibição                             int64\n",
              "Título da obra                             object\n",
              "Gênero                                     object\n",
              "País(es) produtor(es) da obra              object\n",
              "Nacionalidade da obra                      object\n",
              "Data de lançamento                 datetime64[ns]\n",
              "Distribuidora                              object\n",
              "Origem da empresa distribuidora            object\n",
              "Público no ano de exibição                  int64\n",
              "Renda (R$) no ano de exibição             float64\n",
              "dtype: object"
            ]
          },
          "metadata": {
            "tags": []
          },
          "execution_count": 30
        }
      ]
    },
    {
      "cell_type": "code",
      "metadata": {
        "colab": {
          "base_uri": "https://localhost:8080/"
        },
        "id": "U6uVLUDLMfEe",
        "outputId": "c264ff65-ee0c-4c20-9c66-a19811f61631"
      },
      "source": [
        "#Anos que tiveram mais filmes lançados\n",
        "df2['Data de lançamento'].dt.year.value_counts()"
      ],
      "execution_count": null,
      "outputs": [
        {
          "output_type": "execute_result",
          "data": {
            "text/plain": [
              "2013    669\n",
              "2015    646\n",
              "2014    619\n",
              "2016    613\n",
              "2011    553\n",
              "2012    539\n",
              "2009    503\n",
              "2017    487\n",
              "2010    475\n",
              "2008    225\n",
              "2007     61\n",
              "2006     49\n",
              "2005     29\n",
              "2018     17\n",
              "2004     10\n",
              "2002      6\n",
              "2001      5\n",
              "2003      4\n",
              "1999      3\n",
              "2000      2\n",
              "1998      1\n",
              "Name: Data de lançamento, dtype: int64"
            ]
          },
          "metadata": {
            "tags": []
          },
          "execution_count": 31
        }
      ]
    },
    {
      "cell_type": "code",
      "metadata": {
        "colab": {
          "base_uri": "https://localhost:8080/",
          "height": 301
        },
        "id": "Z3h4yaseM1CU",
        "outputId": "c3a068c4-7a4f-48c6-f9e9-9fc57a0ed891"
      },
      "source": [
        "df2['Data de lançamento'].dt.year.value_counts().plot.bar()"
      ],
      "execution_count": null,
      "outputs": [
        {
          "output_type": "execute_result",
          "data": {
            "text/plain": [
              "<matplotlib.axes._subplots.AxesSubplot at 0x7fd7e3014780>"
            ]
          },
          "metadata": {
            "tags": []
          },
          "execution_count": 32
        },
        {
          "output_type": "display_data",
          "data": {
            "image/png": "[encoded data removed]",
            "text/plain": [
              "<Figure size 432x288 with 1 Axes>"
            ]
          },
          "metadata": {
            "tags": [],
            "needs_background": "light"
          }
        }
      ]
    },
    {
      "cell_type": "code",
      "metadata": {
        "colab": {
          "base_uri": "https://localhost:8080/",
          "height": 133
        },
        "id": "9SZ9V20vNJH-",
        "outputId": "92b12669-26b3-4032-bfa6-746bb7b13928"
      },
      "source": [
        "# maior bilheteria\n",
        "df2[df2['Renda (R$) no ano de exibição'] == df2['Renda (R$) no ano de exibição'].max()]"
      ],
      "execution_count": null,
      "outputs": [
        {
          "output_type": "execute_result",
          "data": {
            "text/html": [
              "<div>\n",
              "<style scoped>\n",
              "    .dataframe tbody tr th:only-of-type {\n",
              "        vertical-align: middle;\n",
              "    }\n",
              "\n",
              "    .dataframe tbody tr th {\n",
              "        vertical-align: top;\n",
              "    }\n",
              "\n",
              "    .dataframe thead th {\n",
              "        text-align: right;\n",
              "    }\n",
              "</style>\n",
              "<table border=\"1\" class=\"dataframe\">\n",
              "  <thead>\n",
              "    <tr style=\"text-align: right;\">\n",
              "      <th></th>\n",
              "      <th>Ano de exibição</th>\n",
              "      <th>Título da obra</th>\n",
              "      <th>Gênero</th>\n",
              "      <th>País(es) produtor(es) da obra</th>\n",
              "      <th>Nacionalidade da obra</th>\n",
              "      <th>Data de lançamento</th>\n",
              "      <th>Distribuidora</th>\n",
              "      <th>Origem da empresa distribuidora</th>\n",
              "      <th>Público no ano de exibição</th>\n",
              "      <th>Renda (R$) no ano de exibição</th>\n",
              "    </tr>\n",
              "  </thead>\n",
              "  <tbody>\n",
              "    <tr>\n",
              "      <th>2249</th>\n",
              "      <td>2015</td>\n",
              "      <td>Vingadores: A Era de Ultron</td>\n",
              "      <td>Ficção</td>\n",
              "      <td>Estados Unidos</td>\n",
              "      <td>Estrangeiros</td>\n",
              "      <td>2015-04-23</td>\n",
              "      <td>Disney</td>\n",
              "      <td>Distribuição Internacional</td>\n",
              "      <td>10129071</td>\n",
              "      <td>146184931.0</td>\n",
              "    </tr>\n",
              "  </tbody>\n",
              "</table>\n",
              "</div>"
            ],
            "text/plain": [
              "      Ano de exibição  ... Renda (R$) no ano de exibição\n",
              "2249             2015  ...                   146184931.0\n",
              "\n",
              "[1 rows x 10 columns]"
            ]
          },
          "metadata": {
            "tags": []
          },
          "execution_count": 37
        }
      ]
    },
    {
      "cell_type": "code",
      "metadata": {
        "colab": {
          "base_uri": "https://localhost:8080/",
          "height": 230
        },
        "id": "si-7ia7WOHXw",
        "outputId": "57ca3b7c-e480-49bd-a4f1-6b5b9fbef372"
      },
      "source": [
        "# 3 maiores bilheterias\n",
        "df2.nlargest(3, 'Renda (R$) no ano de exibição')"
      ],
      "execution_count": null,
      "outputs": [
        {
          "output_type": "execute_result",
          "data": {
            "text/html": [
              "<div>\n",
              "<style scoped>\n",
              "    .dataframe tbody tr th:only-of-type {\n",
              "        vertical-align: middle;\n",
              "    }\n",
              "\n",
              "    .dataframe tbody tr th {\n",
              "        vertical-align: top;\n",
              "    }\n",
              "\n",
              "    .dataframe thead th {\n",
              "        text-align: right;\n",
              "    }\n",
              "</style>\n",
              "<table border=\"1\" class=\"dataframe\">\n",
              "  <thead>\n",
              "    <tr style=\"text-align: right;\">\n",
              "      <th></th>\n",
              "      <th>Ano de exibição</th>\n",
              "      <th>Título da obra</th>\n",
              "      <th>Gênero</th>\n",
              "      <th>País(es) produtor(es) da obra</th>\n",
              "      <th>Nacionalidade da obra</th>\n",
              "      <th>Data de lançamento</th>\n",
              "      <th>Distribuidora</th>\n",
              "      <th>Origem da empresa distribuidora</th>\n",
              "      <th>Público no ano de exibição</th>\n",
              "      <th>Renda (R$) no ano de exibição</th>\n",
              "    </tr>\n",
              "  </thead>\n",
              "  <tbody>\n",
              "    <tr>\n",
              "      <th>2249</th>\n",
              "      <td>2015</td>\n",
              "      <td>Vingadores: A Era de Ultron</td>\n",
              "      <td>Ficção</td>\n",
              "      <td>Estados Unidos</td>\n",
              "      <td>Estrangeiros</td>\n",
              "      <td>2015-04-23</td>\n",
              "      <td>Disney</td>\n",
              "      <td>Distribuição Internacional</td>\n",
              "      <td>10129071</td>\n",
              "      <td>1.461849e+08</td>\n",
              "    </tr>\n",
              "    <tr>\n",
              "      <th>893</th>\n",
              "      <td>2016</td>\n",
              "      <td>Capitão América: Guerra civil</td>\n",
              "      <td>Ficção</td>\n",
              "      <td>Estados Unidos</td>\n",
              "      <td>Estrangeiros</td>\n",
              "      <td>2016-04-28</td>\n",
              "      <td>Disney</td>\n",
              "      <td>Distribuição Internacional</td>\n",
              "      <td>9617572</td>\n",
              "      <td>1.433370e+08</td>\n",
              "    </tr>\n",
              "    <tr>\n",
              "      <th>2242</th>\n",
              "      <td>2015</td>\n",
              "      <td>Velozes e Furiosos 7</td>\n",
              "      <td>Ficção</td>\n",
              "      <td>Estados Unidos</td>\n",
              "      <td>Estrangeiros</td>\n",
              "      <td>2015-04-02</td>\n",
              "      <td>Universal</td>\n",
              "      <td>Distribuição Internacional</td>\n",
              "      <td>9857946</td>\n",
              "      <td>1.424659e+08</td>\n",
              "    </tr>\n",
              "  </tbody>\n",
              "</table>\n",
              "</div>"
            ],
            "text/plain": [
              "      Ano de exibição  ... Renda (R$) no ano de exibição\n",
              "2249             2015  ...                  1.461849e+08\n",
              "893              2016  ...                  1.433370e+08\n",
              "2242             2015  ...                  1.424659e+08\n",
              "\n",
              "[3 rows x 10 columns]"
            ]
          },
          "metadata": {
            "tags": []
          },
          "execution_count": 38
        }
      ]
    },
    {
      "cell_type": "code",
      "metadata": {
        "colab": {
          "base_uri": "https://localhost:8080/",
          "height": 328
        },
        "id": "0CK-ayk6OWTK",
        "outputId": "4c3e1ea2-981c-4c03-cc8b-2b47f1386b30"
      },
      "source": [
        "#menor bilheteria\n",
        "df2[df2['Renda (R$) no ano de exibição'] == df2['Renda (R$) no ano de exibição'].min()].head()"
      ],
      "execution_count": null,
      "outputs": [
        {
          "output_type": "execute_result",
          "data": {
            "text/html": [
              "<div>\n",
              "<style scoped>\n",
              "    .dataframe tbody tr th:only-of-type {\n",
              "        vertical-align: middle;\n",
              "    }\n",
              "\n",
              "    .dataframe tbody tr th {\n",
              "        vertical-align: top;\n",
              "    }\n",
              "\n",
              "    .dataframe thead th {\n",
              "        text-align: right;\n",
              "    }\n",
              "</style>\n",
              "<table border=\"1\" class=\"dataframe\">\n",
              "  <thead>\n",
              "    <tr style=\"text-align: right;\">\n",
              "      <th></th>\n",
              "      <th>Ano de exibição</th>\n",
              "      <th>Título da obra</th>\n",
              "      <th>Gênero</th>\n",
              "      <th>País(es) produtor(es) da obra</th>\n",
              "      <th>Nacionalidade da obra</th>\n",
              "      <th>Data de lançamento</th>\n",
              "      <th>Distribuidora</th>\n",
              "      <th>Origem da empresa distribuidora</th>\n",
              "      <th>Público no ano de exibição</th>\n",
              "      <th>Renda (R$) no ano de exibição</th>\n",
              "    </tr>\n",
              "  </thead>\n",
              "  <tbody>\n",
              "    <tr>\n",
              "      <th>2277</th>\n",
              "      <td>2014</td>\n",
              "      <td>A Batalha do passinho</td>\n",
              "      <td>Documentário</td>\n",
              "      <td>Brasil</td>\n",
              "      <td>Brasileiros</td>\n",
              "      <td>2013-10-11</td>\n",
              "      <td>Cine Santa Teresa</td>\n",
              "      <td>Distribuição Nacional</td>\n",
              "      <td>355</td>\n",
              "      <td>0.0</td>\n",
              "    </tr>\n",
              "    <tr>\n",
              "      <th>2608</th>\n",
              "      <td>2014</td>\n",
              "      <td>Mar negro</td>\n",
              "      <td>Ficção</td>\n",
              "      <td>Brasil</td>\n",
              "      <td>Brasileiros</td>\n",
              "      <td>2014-01-17</td>\n",
              "      <td>Petrini</td>\n",
              "      <td>Distribuição Nacional</td>\n",
              "      <td>0</td>\n",
              "      <td>0.0</td>\n",
              "    </tr>\n",
              "    <tr>\n",
              "      <th>2728</th>\n",
              "      <td>2014</td>\n",
              "      <td>O Último Lance do Leilão</td>\n",
              "      <td>Ficção</td>\n",
              "      <td>Brasil</td>\n",
              "      <td>Brasileiros</td>\n",
              "      <td>2014-05-01</td>\n",
              "      <td>Sam Rádio Pictures</td>\n",
              "      <td>Distribuição Nacional</td>\n",
              "      <td>0</td>\n",
              "      <td>0.0</td>\n",
              "    </tr>\n",
              "    <tr>\n",
              "      <th>3041</th>\n",
              "      <td>2013</td>\n",
              "      <td>As horas vulgares</td>\n",
              "      <td>Ficção</td>\n",
              "      <td>Brasil</td>\n",
              "      <td>Brasileiros</td>\n",
              "      <td>2013-08-09</td>\n",
              "      <td>Petrini</td>\n",
              "      <td>Distribuição Nacional</td>\n",
              "      <td>0</td>\n",
              "      <td>0.0</td>\n",
              "    </tr>\n",
              "    <tr>\n",
              "      <th>3058</th>\n",
              "      <td>2013</td>\n",
              "      <td>Beije-me outra vez</td>\n",
              "      <td>Ficção</td>\n",
              "      <td>Itália</td>\n",
              "      <td>Estrangeiros</td>\n",
              "      <td>2013-05-10</td>\n",
              "      <td>Petrini</td>\n",
              "      <td>Distribuição Nacional</td>\n",
              "      <td>0</td>\n",
              "      <td>0.0</td>\n",
              "    </tr>\n",
              "  </tbody>\n",
              "</table>\n",
              "</div>"
            ],
            "text/plain": [
              "      Ano de exibição  ... Renda (R$) no ano de exibição\n",
              "2277             2014  ...                           0.0\n",
              "2608             2014  ...                           0.0\n",
              "2728             2014  ...                           0.0\n",
              "3041             2013  ...                           0.0\n",
              "3058             2013  ...                           0.0\n",
              "\n",
              "[5 rows x 10 columns]"
            ]
          },
          "metadata": {
            "tags": []
          },
          "execution_count": 45
        }
      ]
    },
    {
      "cell_type": "code",
      "metadata": {
        "colab": {
          "base_uri": "https://localhost:8080/"
        },
        "id": "ThP8Ul3UO1Al",
        "outputId": "8a4764e0-8494-4886-e16a-c777e6d5ded5"
      },
      "source": [
        "df2['Nacionalidade da obra'].value_counts()"
      ],
      "execution_count": null,
      "outputs": [
        {
          "output_type": "execute_result",
          "data": {
            "text/plain": [
              "Estrangeiros    3902\n",
              "Brasileiros     1614\n",
              "Name: Nacionalidade da obra, dtype: int64"
            ]
          },
          "metadata": {
            "tags": []
          },
          "execution_count": 46
        }
      ]
    },
    {
      "cell_type": "code",
      "metadata": {
        "colab": {
          "base_uri": "https://localhost:8080/"
        },
        "id": "aJ6Nb8gRPjsL",
        "outputId": "ce57c1c4-427a-4cac-ad40-77d92a04020f"
      },
      "source": [
        "df2['País(es) produtor(es) da obra'].value_counts()\n"
      ],
      "execution_count": null,
      "outputs": [
        {
          "output_type": "execute_result",
          "data": {
            "text/plain": [
              "Estados Unidos                            1682\n",
              "Brasil                                    1508\n",
              "França                                     545\n",
              "Reino Unido                                 80\n",
              "Argentina                                   74\n",
              "                                          ... \n",
              "Alemanha, Áustria, França                    1\n",
              "Austrália, Suécia                            1\n",
              "França, Itália, Qatar, Tunísia               1\n",
              "Estados Unidos, Turquia                      1\n",
              "Brasil, Estados Unidos, França, Itália       1\n",
              "Name: País(es) produtor(es) da obra, Length: 381, dtype: int64"
            ]
          },
          "metadata": {
            "tags": []
          },
          "execution_count": 47
        }
      ]
    },
    {
      "cell_type": "markdown",
      "metadata": {
        "id": "pJmtuPJucyZW"
      },
      "source": [
        "#Câmara dos Deputados"
      ]
    },
    {
      "cell_type": "code",
      "metadata": {
        "id": "EsvzpLONczGN"
      },
      "source": [
        "# dadosabertos.camera.leg.br"
      ],
      "execution_count": null,
      "outputs": []
    },
    {
      "cell_type": "code",
      "metadata": {
        "id": "i-JyfsBrc1-r"
      },
      "source": [
        "import requests"
      ],
      "execution_count": 69,
      "outputs": []
    },
    {
      "cell_type": "code",
      "metadata": {
        "colab": {
          "base_uri": "https://localhost:8080/",
          "height": 141
        },
        "id": "ZvNZo_XKc3fT",
        "outputId": "a112e7d7-db62-4d23-a7a8-bcab6bbd9d97"
      },
      "source": [
        "# URL de acesso aos dados via api\n",
        "url = 'https://dadosabertos.camara.leg.br/api/v2/partidos?itens=100'\n",
        "\n",
        "resposta = requests.get(url)\n",
        "\n",
        "# texto de retorno da requisicao\n",
        "resposta.text"
      ],
      "execution_count": null,
      "outputs": [
        {
          "output_type": "execute_result",
          "data": {
            "application/vnd.google.colaboratory.intrinsic+json": {
              "type": "string"
            },
            "text/plain": [
              "'{\"dados\":[{\"id\":36898,\"sigla\":\"AVANTE\",\"nome\":\"Avante\",\"uri\":\"https://dadosabertos.camara.leg.br/api/v2/partidos/36898\"},{\"id\":37905,\"sigla\":\"CIDADANIA\",\"nome\":\"Cidadania\",\"uri\":\"https://dadosabertos.camara.leg.br/api/v2/partidos/37905\"},{\"id\":37902,\"sigla\":\"DC\",\"nome\":\"Democracia Cristã\",\"uri\":\"https://dadosabertos.camara.leg.br/api/v2/partidos/37902\"},{\"id\":36769,\"sigla\":\"DEM\",\"nome\":\"Democratas\",\"uri\":\"https://dadosabertos.camara.leg.br/api/v2/partidos/36769\"},{\"id\":36899,\"sigla\":\"MDB\",\"nome\":\"Movimento Democrático Brasileiro\",\"uri\":\"https://dadosabertos.camara.leg.br/api/v2/partidos/36899\"},{\"id\":37901,\"sigla\":\"NOVO\",\"nome\":\"Partido Novo\",\"uri\":\"https://dadosabertos.camara.leg.br/api/v2/partidos/37901\"},{\"id\":37900,\"sigla\":\"PATRI\",\"nome\":\"Patriota\",\"uri\":\"https://dadosabertos.camara.leg.br/api/v2/partidos/37900\"},{\"id\":37907,\"sigla\":\"PATRIOTA\",\"nome\":\"Patriota\",\"uri\":\"https://dadosabertos.camara.leg.br/api/v2/partidos/37907\"},{\"id\":36863,\"sigla\":\"PCB\",\"nome\":\"Partido Constitucionalista Brasileiro\",\"uri\":\"https://dadosabertos.camara.leg.br/api/v2/partidos/36863\"},{\"id\":36779,\"sigla\":\"PCdoB\",\"nome\":\"Partido Comunista do Brasil\",\"uri\":\"https://dadosabertos.camara.leg.br/api/v2/partidos/36779\"},{\"id\":36781,\"sigla\":\"PCO\",\"nome\":\"Partido da Causa Operária\",\"uri\":\"https://dadosabertos.camara.leg.br/api/v2/partidos/36781\"},{\"id\":36786,\"sigla\":\"PDT\",\"nome\":\"Partido Democrático Trabalhista\",\"uri\":\"https://dadosabertos.camara.leg.br/api/v2/partidos/36786\"},{\"id\":36793,\"sigla\":\"PHS\",\"nome\":\"Partido Humanista da Solidariedade\",\"uri\":\"https://dadosabertos.camara.leg.br/api/v2/partidos/36793\"},{\"id\":37906,\"sigla\":\"PL\",\"nome\":\"Partido Liberal\",\"uri\":\"https://dadosabertos.camara.leg.br/api/v2/partidos/37906\"},{\"id\":36887,\"sigla\":\"PMB\",\"nome\":\"Partido da Mulher Brasileira\",\"uri\":\"https://dadosabertos.camara.leg.br/api/v2/partidos/36887\"},{\"id\":36801,\"sigla\":\"PMN\",\"nome\":\"Partido da Mobilização Nacional\",\"uri\":\"https://dadosabertos.camara.leg.br/api/v2/partidos/36801\"},{\"id\":36896,\"sigla\":\"PODE\",\"nome\":\"Podemos\",\"uri\":\"https://dadosabertos.camara.leg.br/api/v2/partidos/36896\"},{\"id\":37903,\"sigla\":\"PP\",\"nome\":\"Progressistas\",\"uri\":\"https://dadosabertos.camara.leg.br/api/v2/partidos/37903\"},{\"id\":36762,\"sigla\":\"PPL\",\"nome\":\"Partido Pátria Livre\",\"uri\":\"https://dadosabertos.camara.leg.br/api/v2/partidos/36762\"},{\"id\":36813,\"sigla\":\"PPS\",\"nome\":\"Partido Popular Socialista\",\"uri\":\"https://dadosabertos.camara.leg.br/api/v2/partidos/36813\"},{\"id\":36814,\"sigla\":\"PR\",\"nome\":\"Partido da República\",\"uri\":\"https://dadosabertos.camara.leg.br/api/v2/partidos/36814\"},{\"id\":36815,\"sigla\":\"PRB\",\"nome\":\"Partido Republicano Brasileiro\",\"uri\":\"https://dadosabertos.camara.leg.br/api/v2/partidos/36815\"},{\"id\":36763,\"sigla\":\"PROS\",\"nome\":\"Partido Republicano da Ordem Social\",\"uri\":\"https://dadosabertos.camara.leg.br/api/v2/partidos/36763\"},{\"id\":36824,\"sigla\":\"PRP\",\"nome\":\"Partido Republicano Progressista\",\"uri\":\"https://dadosabertos.camara.leg.br/api/v2/partidos/36824\"},{\"id\":36829,\"sigla\":\"PRTB\",\"nome\":\"Partido Renovador Trabalhista Brasileiro\",\"uri\":\"https://dadosabertos.camara.leg.br/api/v2/partidos/36829\"},{\"id\":36832,\"sigla\":\"PSB\",\"nome\":\"Partido Socialista Brasileiro\",\"uri\":\"https://dadosabertos.camara.leg.br/api/v2/partidos/36832\"},{\"id\":36833,\"sigla\":\"PSC\",\"nome\":\"Partido Social Cristão\",\"uri\":\"https://dadosabertos.camara.leg.br/api/v2/partidos/36833\"},{\"id\":36834,\"sigla\":\"PSD\",\"nome\":\"Partido Social Democrático\",\"uri\":\"https://dadosabertos.camara.leg.br/api/v2/partidos/36834\"},{\"id\":36835,\"sigla\":\"PSDB\",\"nome\":\"Partido da Social Democracia Brasileira\",\"uri\":\"https://dadosabertos.camara.leg.br/api/v2/partidos/36835\"},{\"id\":36837,\"sigla\":\"PSL\",\"nome\":\"Partido Social Liberal\",\"uri\":\"https://dadosabertos.camara.leg.br/api/v2/partidos/36837\"},{\"id\":36839,\"sigla\":\"PSOL\",\"nome\":\"Partido Socialismo e Liberdade\",\"uri\":\"https://dadosabertos.camara.leg.br/api/v2/partidos/36839\"},{\"id\":36843,\"sigla\":\"PSTU\",\"nome\":\"Partido Socialista dos Trabalhadores Unificado\",\"uri\":\"https://dadosabertos.camara.leg.br/api/v2/partidos/36843\"},{\"id\":36844,\"sigla\":\"PT\",\"nome\":\"Partido dos Trabalhadores\",\"uri\":\"https://dadosabertos.camara.leg.br/api/v2/partidos/36844\"},{\"id\":36845,\"sigla\":\"PTB\",\"nome\":\"Partido Trabalhista Brasileiro\",\"uri\":\"https://dadosabertos.camara.leg.br/api/v2/partidos/36845\"},{\"id\":36846,\"sigla\":\"PTC\",\"nome\":\"Partido Trabalhista Cristão\",\"uri\":\"https://dadosabertos.camara.leg.br/api/v2/partidos/36846\"},{\"id\":36851,\"sigla\":\"PV\",\"nome\":\"Partido Verde\",\"uri\":\"https://dadosabertos.camara.leg.br/api/v2/partidos/36851\"},{\"id\":36886,\"sigla\":\"REDE\",\"nome\":\"Rede Sustentabilidade\",\"uri\":\"https://dadosabertos.camara.leg.br/api/v2/partidos/36886\"},{\"id\":37908,\"sigla\":\"REPUBLICANOS\",\"nome\":\"Republicanos\",\"uri\":\"https://dadosabertos.camara.leg.br/api/v2/partidos/37908\"},{\"id\":36852,\"sigla\":\"S.PART.\",\"nome\":\"Sem Partido\",\"uri\":\"https://dadosabertos.camara.leg.br/api/v2/partidos/36852\"},{\"id\":37904,\"sigla\":\"SOLIDARIEDADE\",\"nome\":\"Solidariedade\",\"uri\":\"https://dadosabertos.camara.leg.br/api/v2/partidos/37904\"}],\"links\":[{\"rel\":\"self\",\"href\":\"https://dadosabertos.camara.leg.br/api/v2/partidos?itens=100\"},{\"rel\":\"first\",\"href\":\"https://dadosabertos.camara.leg.br/api/v2/partidos?pagina=1&itens=100\"},{\"rel\":\"last\",\"href\":\"https://dadosabertos.camara.leg.br/api/v2/partidos?pagina=1&itens=100\"}]}'"
            ]
          },
          "metadata": {
            "tags": []
          },
          "execution_count": 60
        }
      ]
    },
    {
      "cell_type": "code",
      "metadata": {
        "colab": {
          "base_uri": "https://localhost:8080/",
          "height": 206
        },
        "id": "CrvO9aASc5tf",
        "outputId": "f6d12819-494f-49a8-a8e0-320c783aec87"
      },
      "source": [
        "df = pd.DataFrame(resposta.json()['dados'])\n",
        "df.head()"
      ],
      "execution_count": null,
      "outputs": [
        {
          "output_type": "execute_result",
          "data": {
            "text/html": [
              "<div>\n",
              "<style scoped>\n",
              "    .dataframe tbody tr th:only-of-type {\n",
              "        vertical-align: middle;\n",
              "    }\n",
              "\n",
              "    .dataframe tbody tr th {\n",
              "        vertical-align: top;\n",
              "    }\n",
              "\n",
              "    .dataframe thead th {\n",
              "        text-align: right;\n",
              "    }\n",
              "</style>\n",
              "<table border=\"1\" class=\"dataframe\">\n",
              "  <thead>\n",
              "    <tr style=\"text-align: right;\">\n",
              "      <th></th>\n",
              "      <th>id</th>\n",
              "      <th>sigla</th>\n",
              "      <th>nome</th>\n",
              "      <th>uri</th>\n",
              "    </tr>\n",
              "  </thead>\n",
              "  <tbody>\n",
              "    <tr>\n",
              "      <th>0</th>\n",
              "      <td>36898</td>\n",
              "      <td>AVANTE</td>\n",
              "      <td>Avante</td>\n",
              "      <td>https://dadosabertos.camara.leg.br/api/v2/part...</td>\n",
              "    </tr>\n",
              "    <tr>\n",
              "      <th>1</th>\n",
              "      <td>37905</td>\n",
              "      <td>CIDADANIA</td>\n",
              "      <td>Cidadania</td>\n",
              "      <td>https://dadosabertos.camara.leg.br/api/v2/part...</td>\n",
              "    </tr>\n",
              "    <tr>\n",
              "      <th>2</th>\n",
              "      <td>37902</td>\n",
              "      <td>DC</td>\n",
              "      <td>Democracia Cristã</td>\n",
              "      <td>https://dadosabertos.camara.leg.br/api/v2/part...</td>\n",
              "    </tr>\n",
              "    <tr>\n",
              "      <th>3</th>\n",
              "      <td>36769</td>\n",
              "      <td>DEM</td>\n",
              "      <td>Democratas</td>\n",
              "      <td>https://dadosabertos.camara.leg.br/api/v2/part...</td>\n",
              "    </tr>\n",
              "    <tr>\n",
              "      <th>4</th>\n",
              "      <td>36899</td>\n",
              "      <td>MDB</td>\n",
              "      <td>Movimento Democrático Brasileiro</td>\n",
              "      <td>https://dadosabertos.camara.leg.br/api/v2/part...</td>\n",
              "    </tr>\n",
              "  </tbody>\n",
              "</table>\n",
              "</div>"
            ],
            "text/plain": [
              "      id  ...                                                uri\n",
              "0  36898  ...  https://dadosabertos.camara.leg.br/api/v2/part...\n",
              "1  37905  ...  https://dadosabertos.camara.leg.br/api/v2/part...\n",
              "2  37902  ...  https://dadosabertos.camara.leg.br/api/v2/part...\n",
              "3  36769  ...  https://dadosabertos.camara.leg.br/api/v2/part...\n",
              "4  36899  ...  https://dadosabertos.camara.leg.br/api/v2/part...\n",
              "\n",
              "[5 rows x 4 columns]"
            ]
          },
          "metadata": {
            "tags": []
          },
          "execution_count": 61
        }
      ]
    },
    {
      "cell_type": "code",
      "metadata": {
        "colab": {
          "base_uri": "https://localhost:8080/"
        },
        "id": "5ej4iFVBc6Jn",
        "outputId": "57155623-e4d1-4237-e278-d546f48c2930"
      },
      "source": [
        "# Quantidade de partidos\n",
        "df.sigla.count()"
      ],
      "execution_count": null,
      "outputs": [
        {
          "output_type": "execute_result",
          "data": {
            "text/plain": [
              "40"
            ]
          },
          "metadata": {
            "tags": []
          },
          "execution_count": 62
        }
      ]
    },
    {
      "cell_type": "code",
      "metadata": {
        "colab": {
          "base_uri": "https://localhost:8080/"
        },
        "id": "UA1So2cLc7oj",
        "outputId": "c876d56e-3fe8-460a-dab0-bad6d7bb3639"
      },
      "source": [
        "df.nome"
      ],
      "execution_count": null,
      "outputs": [
        {
          "output_type": "execute_result",
          "data": {
            "text/plain": [
              "0                                             Avante\n",
              "1                                          Cidadania\n",
              "2                                  Democracia Cristã\n",
              "3                                         Democratas\n",
              "4                   Movimento Democrático Brasileiro\n",
              "5                                       Partido Novo\n",
              "6                                           Patriota\n",
              "7                                           Patriota\n",
              "8              Partido Constitucionalista Brasileiro\n",
              "9                        Partido Comunista do Brasil\n",
              "10                         Partido da Causa Operária\n",
              "11                   Partido Democrático Trabalhista\n",
              "12                Partido Humanista da Solidariedade\n",
              "13                                   Partido Liberal\n",
              "14                      Partido da Mulher Brasileira\n",
              "15                   Partido da Mobilização Nacional\n",
              "16                                           Podemos\n",
              "17                                     Progressistas\n",
              "18                              Partido Pátria Livre\n",
              "19                        Partido Popular Socialista\n",
              "20                              Partido da República\n",
              "21                    Partido Republicano Brasileiro\n",
              "22               Partido Republicano da Ordem Social\n",
              "23                  Partido Republicano Progressista\n",
              "24          Partido Renovador Trabalhista Brasileiro\n",
              "25                     Partido Socialista Brasileiro\n",
              "26                            Partido Social Cristão\n",
              "27                        Partido Social Democrático\n",
              "28           Partido da Social Democracia Brasileira\n",
              "29                            Partido Social Liberal\n",
              "30                    Partido Socialismo e Liberdade\n",
              "31    Partido Socialista dos Trabalhadores Unificado\n",
              "32                         Partido dos Trabalhadores\n",
              "33                    Partido Trabalhista Brasileiro\n",
              "34                       Partido Trabalhista Cristão\n",
              "35                                     Partido Verde\n",
              "36                             Rede Sustentabilidade\n",
              "37                                      Republicanos\n",
              "38                                       Sem Partido\n",
              "39                                     Solidariedade\n",
              "Name: nome, dtype: object"
            ]
          },
          "metadata": {
            "tags": []
          },
          "execution_count": 63
        }
      ]
    },
    {
      "cell_type": "code",
      "metadata": {
        "colab": {
          "base_uri": "https://localhost:8080/",
          "height": 35
        },
        "id": "yHb-Fn90c-jp",
        "outputId": "3bfbfc2b-4f68-428d-c918-4141dcfb51d4"
      },
      "source": [
        "# O iloc retorna um campo com base no seu índice [linha, coluna]\n",
        "df.iloc[0, 3]"
      ],
      "execution_count": null,
      "outputs": [
        {
          "output_type": "execute_result",
          "data": {
            "application/vnd.google.colaboratory.intrinsic+json": {
              "type": "string"
            },
            "text/plain": [
              "'https://dadosabertos.camara.leg.br/api/v2/partidos/36898'"
            ]
          },
          "metadata": {
            "tags": []
          },
          "execution_count": 64
        }
      ]
    },
    {
      "cell_type": "code",
      "metadata": {
        "colab": {
          "base_uri": "https://localhost:8080/",
          "height": 35
        },
        "id": "aQzi4A-tc_vE",
        "outputId": "a5482f08-633b-46ad-bbbd-bd1f8dad8c18"
      },
      "source": [
        "# O loc retorna o campo com base no nome das colunas\n",
        "df.loc[0, 'uri']"
      ],
      "execution_count": null,
      "outputs": [
        {
          "output_type": "execute_result",
          "data": {
            "application/vnd.google.colaboratory.intrinsic+json": {
              "type": "string"
            },
            "text/plain": [
              "'https://dadosabertos.camara.leg.br/api/v2/partidos/36898'"
            ]
          },
          "metadata": {
            "tags": []
          },
          "execution_count": 65
        }
      ]
    },
    {
      "cell_type": "markdown",
      "metadata": {
        "id": "5dR4c2-SikAW"
      },
      "source": [
        "#Análise Dados Copa do Mundo - Raspagem de Dados"
      ]
    },
    {
      "cell_type": "code",
      "metadata": {
        "id": "BGwXGG84imEQ"
      },
      "source": [
        "# URL de acesso aos dados via api\n",
        "url = 'https://pt.wikipedia.org/wiki/Copa_do_Mundo_FIFA'\n",
        "\n",
        "resposta = requests.get(url)\n",
        "\n",
        "tabela = pd.read_html(resposta.text)\n",
        "df = tabela[11]"
      ],
      "execution_count": 89,
      "outputs": []
    },
    {
      "cell_type": "code",
      "metadata": {
        "colab": {
          "base_uri": "https://localhost:8080/",
          "height": 206
        },
        "id": "Gw-DqQlBi7uf",
        "outputId": "79361a8e-d58e-45cd-877b-394fffacbe31"
      },
      "source": [
        "df.head()"
      ],
      "execution_count": 90,
      "outputs": [
        {
          "output_type": "execute_result",
          "data": {
            "text/html": [
              "<div>\n",
              "<style scoped>\n",
              "    .dataframe tbody tr th:only-of-type {\n",
              "        vertical-align: middle;\n",
              "    }\n",
              "\n",
              "    .dataframe tbody tr th {\n",
              "        vertical-align: top;\n",
              "    }\n",
              "\n",
              "    .dataframe thead th {\n",
              "        text-align: right;\n",
              "    }\n",
              "</style>\n",
              "<table border=\"1\" class=\"dataframe\">\n",
              "  <thead>\n",
              "    <tr style=\"text-align: right;\">\n",
              "      <th></th>\n",
              "      <th>Edição</th>\n",
              "      <th>Ano</th>\n",
              "      <th>Estádio</th>\n",
              "      <th>Local</th>\n",
              "      <th>Público pagante</th>\n",
              "    </tr>\n",
              "  </thead>\n",
              "  <tbody>\n",
              "    <tr>\n",
              "      <th>0</th>\n",
              "      <td>I</td>\n",
              "      <td>1930</td>\n",
              "      <td>Estádio Centenário</td>\n",
              "      <td>Montevidéu</td>\n",
              "      <td>68.346</td>\n",
              "    </tr>\n",
              "    <tr>\n",
              "      <th>1</th>\n",
              "      <td>II</td>\n",
              "      <td>1934</td>\n",
              "      <td>Estádio do Partido Nacional Fascista</td>\n",
              "      <td>Roma</td>\n",
              "      <td>55.000</td>\n",
              "    </tr>\n",
              "    <tr>\n",
              "      <th>2</th>\n",
              "      <td>III</td>\n",
              "      <td>1938</td>\n",
              "      <td>Estádio Olímpico Yves-du-Manoir</td>\n",
              "      <td>Colombes</td>\n",
              "      <td>45.000</td>\n",
              "    </tr>\n",
              "    <tr>\n",
              "      <th>3</th>\n",
              "      <td>IV</td>\n",
              "      <td>1950</td>\n",
              "      <td>Estádio do Maracanã</td>\n",
              "      <td>Rio de Janeiro</td>\n",
              "      <td>173.850</td>\n",
              "    </tr>\n",
              "    <tr>\n",
              "      <th>4</th>\n",
              "      <td>V</td>\n",
              "      <td>1954</td>\n",
              "      <td>Estádio Wankdorf</td>\n",
              "      <td>Berna</td>\n",
              "      <td>62.500</td>\n",
              "    </tr>\n",
              "  </tbody>\n",
              "</table>\n",
              "</div>"
            ],
            "text/plain": [
              "  Edição   Ano  ...           Local Público pagante\n",
              "0      I  1930  ...      Montevidéu          68.346\n",
              "1     II  1934  ...            Roma          55.000\n",
              "2    III  1938  ...        Colombes          45.000\n",
              "3     IV  1950  ...  Rio de Janeiro         173.850\n",
              "4      V  1954  ...           Berna          62.500\n",
              "\n",
              "[5 rows x 5 columns]"
            ]
          },
          "metadata": {
            "tags": []
          },
          "execution_count": 90
        }
      ]
    },
    {
      "cell_type": "code",
      "metadata": {
        "id": "_wHNoIJFjoFQ"
      },
      "source": [
        "# df.columns = df.iloc[0]\n",
        "# df.drop(df.index[0], inplace=True)"
      ],
      "execution_count": 91,
      "outputs": []
    },
    {
      "cell_type": "code",
      "metadata": {
        "colab": {
          "base_uri": "https://localhost:8080/"
        },
        "id": "xdwJTmwwkf_m",
        "outputId": "d33cb229-59d5-4902-fce5-2c28f3cc9750"
      },
      "source": [
        "df.info() "
      ],
      "execution_count": 92,
      "outputs": [
        {
          "output_type": "stream",
          "text": [
            "<class 'pandas.core.frame.DataFrame'>\n",
            "RangeIndex: 21 entries, 0 to 20\n",
            "Data columns (total 5 columns):\n",
            " #   Column           Non-Null Count  Dtype  \n",
            "---  ------           --------------  -----  \n",
            " 0   Edição           21 non-null     object \n",
            " 1   Ano              21 non-null     int64  \n",
            " 2   Estádio          21 non-null     object \n",
            " 3   Local            21 non-null     object \n",
            " 4   Público pagante  21 non-null     float64\n",
            "dtypes: float64(1), int64(1), object(3)\n",
            "memory usage: 968.0+ bytes\n"
          ],
          "name": "stdout"
        }
      ]
    },
    {
      "cell_type": "code",
      "metadata": {
        "id": "qVabJOQolMKG"
      },
      "source": [
        "# df['Público pagante'] = df['Público pagante'].str.replace('.', '').astype(int)"
      ],
      "execution_count": 95,
      "outputs": []
    },
    {
      "cell_type": "code",
      "metadata": {
        "colab": {
          "base_uri": "https://localhost:8080/",
          "height": 300
        },
        "id": "Fd3CvdqKlyz3",
        "outputId": "cf9d15c8-4b55-4eca-bbb2-fd081c7bca10"
      },
      "source": [
        "import seaborn as sns\n",
        "import matplotlib.pyplot as plt\n",
        "\n",
        "%matplotlib inline\n",
        "\n",
        "sns.pointplot(x='Ano', y='Público pagante', data=df)\n",
        "\n",
        "# Ajustando legenda dos anos \n",
        "plt.xticks(rotation=65)\n",
        "plt.show()"
      ],
      "execution_count": 96,
      "outputs": [
        {
          "output_type": "display_data",
          "data": {
            "image/png": "[encoded data removed]",
            "text/plain": [
              "<Figure size 432x288 with 1 Axes>"
            ]
          },
          "metadata": {
            "tags": [],
            "needs_background": "light"
          }
        }
      ]
    },
    {
      "cell_type": "code",
      "metadata": {
        "id": "Fz9GyrjImU9F"
      },
      "source": [
        ""
      ],
      "execution_count": null,
      "outputs": []
    }
  ]
}