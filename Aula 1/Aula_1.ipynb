{
  "nbformat": 4,
  "nbformat_minor": 0,
  "metadata": {
    "colab": {
      "name": "Aula 1",
      "provenance": [],
      "collapsed_sections": [],
      "toc_visible": true
    },
    "kernelspec": {
      "name": "python3",
      "display_name": "Python 3"
    }
  },
  "cells": [
    {
      "cell_type": "code",
      "metadata": {
        "id": "kWYahZfsHYmH"
      },
      "source": [
        "import pandas as pd"
      ],
      "execution_count": 1,
      "outputs": []
    },
    {
      "cell_type": "code",
      "metadata": {
        "id": "4AcOkPs7LB_E"
      },
      "source": [
        "df = pd.read_csv('/content/arquivo1.csv', sep=';')"
      ],
      "execution_count": null,
      "outputs": []
    },
    {
      "cell_type": "code",
      "metadata": {
        "id": "-WdMy0SsQZhy"
      },
      "source": [
        "# df.head()"
      ],
      "execution_count": null,
      "outputs": []
    },
    {
      "cell_type": "code",
      "metadata": {
        "colab": {
          "base_uri": "https://localhost:8080/"
        },
        "id": "1pUDYWW1Tb_J",
        "outputId": "0787ad66-87da-48d1-fd3c-9d8639385943"
      },
      "source": [
        "df.dtypes"
      ],
      "execution_count": null,
      "outputs": [
        {
          "output_type": "execute_result",
          "data": {
            "text/plain": [
              "CODIGO_UNIDADE                int64\n",
              "NOME_UNIDADE                 object\n",
              "DT_AUTORIZA_FUNCIONA_UNID    object\n",
              "NOME_REGIAO_UNIDADE          object\n",
              "SIGLA_UF_UNIDADE             object\n",
              "NOME_MUNICIPIO_UNIDADE       object\n",
              "NOME_MESORREGIAO_UNIDADE     object\n",
              "NOME_MICRORREGIAO_UNIDADE    object\n",
              "dtype: object"
            ]
          },
          "metadata": {
            "tags": []
          },
          "execution_count": 18
        }
      ]
    },
    {
      "cell_type": "code",
      "metadata": {
        "colab": {
          "base_uri": "https://localhost:8080/"
        },
        "id": "3iOQK7t6QaW0",
        "outputId": "53b1a3db-22c1-4fb0-85f7-23e247c1080a"
      },
      "source": [
        "  df.count()"
      ],
      "execution_count": null,
      "outputs": [
        {
          "output_type": "execute_result",
          "data": {
            "text/plain": [
              "CODIGO_UNIDADE               618\n",
              "NOME_UNIDADE                 618\n",
              "DT_AUTORIZA_FUNCIONA_UNID    618\n",
              "NOME_REGIAO_UNIDADE          618\n",
              "SIGLA_UF_UNIDADE             618\n",
              "NOME_MUNICIPIO_UNIDADE       618\n",
              "NOME_MESORREGIAO_UNIDADE     618\n",
              "NOME_MICRORREGIAO_UNIDADE    618\n",
              "dtype: int64"
            ]
          },
          "metadata": {
            "tags": []
          },
          "execution_count": 17
        }
      ]
    },
    {
      "cell_type": "code",
      "metadata": {
        "colab": {
          "base_uri": "https://localhost:8080/"
        },
        "id": "NGY1lDmOQ2gs",
        "outputId": "675f1d54-3306-462c-fbf5-540975617d6e"
      },
      "source": [
        "df['NOME_REGIAO_UNIDADE'].value_counts()"
      ],
      "execution_count": null,
      "outputs": [
        {
          "output_type": "execute_result",
          "data": {
            "text/plain": [
              "Nordeste        202\n",
              "Sudeste         163\n",
              "Sul             116\n",
              "Norte            70\n",
              "Centro-Oeste     67\n",
              "Name: NOME_REGIAO_UNIDADE, dtype: int64"
            ]
          },
          "metadata": {
            "tags": []
          },
          "execution_count": 25
        }
      ]
    },
    {
      "cell_type": "code",
      "metadata": {
        "colab": {
          "base_uri": "https://localhost:8080/",
          "height": 339
        },
        "id": "LpzrmETjTtGp",
        "outputId": "bf14014f-dd0e-47bb-de0b-04b3b9130449"
      },
      "source": [
        "df['NOME_REGIAO_UNIDADE'].value_counts().plot.bar()"
      ],
      "execution_count": null,
      "outputs": [
        {
          "output_type": "execute_result",
          "data": {
            "text/plain": [
              "<matplotlib.axes._subplots.AxesSubplot at 0x7fa508169d30>"
            ]
          },
          "metadata": {
            "tags": []
          },
          "execution_count": 28
        },
        {
          "output_type": "display_data",
          "data": {
            "image/png": "[encoded data removed]",
            "text/plain": [
              "<Figure size 432x288 with 1 Axes>"
            ]
          },
          "metadata": {
            "tags": [],
            "needs_background": "light"
          }
        }
      ]
    },
    {
      "cell_type": "code",
      "metadata": {
        "colab": {
          "base_uri": "https://localhost:8080/",
          "height": 292
        },
        "id": "bYdB6nprx9h5",
        "outputId": "45c8f2f8-0ad7-41c6-8760-a3ccaaeb99da"
      },
      "source": [
        "df['SIGLA_UF_UNIDADE'].value_counts().plot.bar()"
      ],
      "execution_count": null,
      "outputs": [
        {
          "output_type": "execute_result",
          "data": {
            "text/plain": [
              "<matplotlib.axes._subplots.AxesSubplot at 0x7fa507adb898>"
            ]
          },
          "metadata": {
            "tags": []
          },
          "execution_count": 31
        },
        {
          "output_type": "display_data",
          "data": {
            "image/png": "[encoded data removed]",
            "text/plain": [
              "<Figure size 432x288 with 1 Axes>"
            ]
          },
          "metadata": {
            "tags": [],
            "needs_background": "light"
          }
        }
      ]
    },
    {
      "cell_type": "markdown",
      "metadata": {
        "id": "63Xq9t-1FYCz"
      },
      "source": [
        "# NOVO EXERCÍCIO"
      ]
    },
    {
      "cell_type": "markdown",
      "metadata": {
        "id": "SrOtOJRBFhi8"
      },
      "source": [
        "# CIRURGIAS"
      ]
    },
    {
      "cell_type": "code",
      "metadata": {
        "id": "6BRHycjy437c"
      },
      "source": [
        "df = pd.read_csv('/content/cirugias.csv', sep=';', usecols=[3,6,7,8,12,14])"
      ],
      "execution_count": null,
      "outputs": []
    },
    {
      "cell_type": "code",
      "metadata": {
        "colab": {
          "base_uri": "https://localhost:8080/",
          "height": 311
        },
        "id": "GKakVl4D5GdR",
        "outputId": "1fda8811-3679-4f9d-b9dd-a6f3370c7027"
      },
      "source": [
        "df.columns = ['Hospital', 'Município', 'Complexidade', 'Caráter Atendimento', 'Sub grupo procedimento', 'Procedimento']\n",
        "df.head()"
      ],
      "execution_count": null,
      "outputs": [
        {
          "output_type": "execute_result",
          "data": {
            "text/html": [
              "<div>\n",
              "<style scoped>\n",
              "    .dataframe tbody tr th:only-of-type {\n",
              "        vertical-align: middle;\n",
              "    }\n",
              "\n",
              "    .dataframe tbody tr th {\n",
              "        vertical-align: top;\n",
              "    }\n",
              "\n",
              "    .dataframe thead th {\n",
              "        text-align: right;\n",
              "    }\n",
              "</style>\n",
              "<table border=\"1\" class=\"dataframe\">\n",
              "  <thead>\n",
              "    <tr style=\"text-align: right;\">\n",
              "      <th></th>\n",
              "      <th>Hospital</th>\n",
              "      <th>Município</th>\n",
              "      <th>Complexidade</th>\n",
              "      <th>Caráter Atendimento</th>\n",
              "      <th>Sub grupo procedimento</th>\n",
              "      <th>Procedimento</th>\n",
              "    </tr>\n",
              "  </thead>\n",
              "  <tbody>\n",
              "    <tr>\n",
              "      <th>0</th>\n",
              "      <td>6876617 HOSPITAL DA CRIANCA DE BRASILIA JOSE A...</td>\n",
              "      <td>BRASILIA, DF, BR</td>\n",
              "      <td>Média complexidade</td>\n",
              "      <td>Eletivo</td>\n",
              "      <td>Sub Grupo: 15 - Outras cirurgias</td>\n",
              "      <td>TRATAMENTO C/ CIRURGIAS MULTIPLAS</td>\n",
              "    </tr>\n",
              "    <tr>\n",
              "      <th>1</th>\n",
              "      <td>0010456 HBDF HOSPITAL DE BASE DO DISTRITO FEDERAL</td>\n",
              "      <td>BRASILIA, DF, BR</td>\n",
              "      <td>Média complexidade</td>\n",
              "      <td>Urgência</td>\n",
              "      <td>Sub Grupo: 03 - Cirurgia do sistema nervoso ce...</td>\n",
              "      <td>DERIVACAO VENTRICULAR EXTERNAR-SUBGALEAL EXTERNA</td>\n",
              "    </tr>\n",
              "    <tr>\n",
              "      <th>2</th>\n",
              "      <td>0010456 HBDF HOSPITAL DE BASE DO DISTRITO FEDERAL</td>\n",
              "      <td>BRASILIA, DF, BR</td>\n",
              "      <td>Média complexidade</td>\n",
              "      <td>Urgência</td>\n",
              "      <td>Sub Grupo: 15 - Outras cirurgias</td>\n",
              "      <td>TRATAMENTO C/ CIRURGIAS MULTIPLAS</td>\n",
              "    </tr>\n",
              "    <tr>\n",
              "      <th>3</th>\n",
              "      <td>6876617 HOSPITAL DA CRIANCA DE BRASILIA JOSE A...</td>\n",
              "      <td>BRASILIA, DF, BR</td>\n",
              "      <td>Média complexidade</td>\n",
              "      <td>Eletivo</td>\n",
              "      <td>Sub Grupo: 07 - Cirurgia do aparelho digestivo...</td>\n",
              "      <td>HERNIOPLASTIA UMBILICAL</td>\n",
              "    </tr>\n",
              "    <tr>\n",
              "      <th>4</th>\n",
              "      <td>0010456 HBDF HOSPITAL DE BASE DO DISTRITO FEDERAL</td>\n",
              "      <td>BRASILIA, DF, BR</td>\n",
              "      <td>Alta complexidade</td>\n",
              "      <td>Eletivo</td>\n",
              "      <td>Sub Grupo: 16 - Cirurgia em oncologia</td>\n",
              "      <td>RESSECCAO DE TUMOR DE PARTES MOLES EM ONCOLOGIA</td>\n",
              "    </tr>\n",
              "  </tbody>\n",
              "</table>\n",
              "</div>"
            ],
            "text/plain": [
              "                                            Hospital  ...                                      Procedimento\n",
              "0  6876617 HOSPITAL DA CRIANCA DE BRASILIA JOSE A...  ...                 TRATAMENTO C/ CIRURGIAS MULTIPLAS\n",
              "1  0010456 HBDF HOSPITAL DE BASE DO DISTRITO FEDERAL  ...  DERIVACAO VENTRICULAR EXTERNAR-SUBGALEAL EXTERNA\n",
              "2  0010456 HBDF HOSPITAL DE BASE DO DISTRITO FEDERAL  ...                 TRATAMENTO C/ CIRURGIAS MULTIPLAS\n",
              "3  6876617 HOSPITAL DA CRIANCA DE BRASILIA JOSE A...  ...                           HERNIOPLASTIA UMBILICAL\n",
              "4  0010456 HBDF HOSPITAL DE BASE DO DISTRITO FEDERAL  ...   RESSECCAO DE TUMOR DE PARTES MOLES EM ONCOLOGIA\n",
              "\n",
              "[5 rows x 6 columns]"
            ]
          },
          "metadata": {
            "tags": []
          },
          "execution_count": 62
        }
      ]
    },
    {
      "cell_type": "code",
      "metadata": {
        "colab": {
          "base_uri": "https://localhost:8080/",
          "height": 175
        },
        "id": "Mt9ygSCj5OmU",
        "outputId": "442a410e-e7c8-4a96-d1a0-10c868478491"
      },
      "source": [
        "df.describe()\n",
        "# Observar a linha unique\n",
        "# freq é a frequência do top"
      ],
      "execution_count": null,
      "outputs": [
        {
          "output_type": "execute_result",
          "data": {
            "text/html": [
              "<div>\n",
              "<style scoped>\n",
              "    .dataframe tbody tr th:only-of-type {\n",
              "        vertical-align: middle;\n",
              "    }\n",
              "\n",
              "    .dataframe tbody tr th {\n",
              "        vertical-align: top;\n",
              "    }\n",
              "\n",
              "    .dataframe thead th {\n",
              "        text-align: right;\n",
              "    }\n",
              "</style>\n",
              "<table border=\"1\" class=\"dataframe\">\n",
              "  <thead>\n",
              "    <tr style=\"text-align: right;\">\n",
              "      <th></th>\n",
              "      <th>Hospital</th>\n",
              "      <th>Município</th>\n",
              "      <th>Complexidade</th>\n",
              "      <th>Caráter Atendimento</th>\n",
              "      <th>Sub grupo procedimento</th>\n",
              "      <th>Procedimento</th>\n",
              "    </tr>\n",
              "  </thead>\n",
              "  <tbody>\n",
              "    <tr>\n",
              "      <th>count</th>\n",
              "      <td>4862</td>\n",
              "      <td>4862</td>\n",
              "      <td>4862</td>\n",
              "      <td>4862</td>\n",
              "      <td>4862</td>\n",
              "      <td>4862</td>\n",
              "    </tr>\n",
              "    <tr>\n",
              "      <th>unique</th>\n",
              "      <td>16</td>\n",
              "      <td>11</td>\n",
              "      <td>2</td>\n",
              "      <td>4</td>\n",
              "      <td>16</td>\n",
              "      <td>495</td>\n",
              "    </tr>\n",
              "    <tr>\n",
              "      <th>top</th>\n",
              "      <td>0010456 HBDF HOSPITAL DE BASE DO DISTRITO FEDERAL</td>\n",
              "      <td>BRASILIA, DF, BR</td>\n",
              "      <td>Média complexidade</td>\n",
              "      <td>Urgência</td>\n",
              "      <td>Sub Grupo: 11 - Cirurgia obst�trica</td>\n",
              "      <td>PARTO CESARIANO</td>\n",
              "    </tr>\n",
              "    <tr>\n",
              "      <th>freq</th>\n",
              "      <td>735</td>\n",
              "      <td>1923</td>\n",
              "      <td>4353</td>\n",
              "      <td>3794</td>\n",
              "      <td>1539</td>\n",
              "      <td>1060</td>\n",
              "    </tr>\n",
              "  </tbody>\n",
              "</table>\n",
              "</div>"
            ],
            "text/plain": [
              "                                                 Hospital  ...     Procedimento\n",
              "count                                                4862  ...             4862\n",
              "unique                                                 16  ...              495\n",
              "top     0010456 HBDF HOSPITAL DE BASE DO DISTRITO FEDERAL  ...  PARTO CESARIANO\n",
              "freq                                                  735  ...             1060\n",
              "\n",
              "[4 rows x 6 columns]"
            ]
          },
          "metadata": {
            "tags": []
          },
          "execution_count": 64
        }
      ]
    },
    {
      "cell_type": "code",
      "metadata": {
        "colab": {
          "base_uri": "https://localhost:8080/"
        },
        "id": "5o7IiQ6h94H5",
        "outputId": "c1887dd0-e518-493f-dc1d-e345fe6c981f"
      },
      "source": [
        "df.Hospital.unique() #mostra a lista de hospitais"
      ],
      "execution_count": null,
      "outputs": [
        {
          "output_type": "execute_result",
          "data": {
            "text/plain": [
              "array(['6876617 HOSPITAL DA CRIANCA DE BRASILIA JOSE ALENCAR HCB',\n",
              "       '0010456 HBDF HOSPITAL DE BASE DO DISTRITO FEDERAL',\n",
              "       '0010499 HRT HOSPITAL REGIONAL DE TAGUATINGA', '0010545 HRBZ',\n",
              "       '0010480 HOSPITAL REGIONAL DE CEILANDIA',\n",
              "       '3276678 INSTITUTO DE CARDIOLOGIA DO DISTRITO FEDERAL',\n",
              "       '0010472 HRG', '0010510 HOSPITAL UNIVERSITARIO DE BRASILIA',\n",
              "       '0010529 HRPL',\n",
              "       '0010537 HOSPITAL MATERNO INFANTIL DE BRASILIA HMIB',\n",
              "       '3055450 CBV CENTRO BRASILEIRO DA VISAO',\n",
              "       '2672197 HRSAM HOSPITAL REGIONAL DE SAMAMBAIA', '0010502 HRS',\n",
              "       '5717515 HRSM', '2645157 HRPA', '0010464 HRAN'], dtype=object)"
            ]
          },
          "metadata": {
            "tags": []
          },
          "execution_count": 69
        }
      ]
    },
    {
      "cell_type": "code",
      "metadata": {
        "colab": {
          "base_uri": "https://localhost:8080/"
        },
        "id": "ypq54R78-s0P",
        "outputId": "6bce5585-e2a5-495b-aae6-340efe5238ff"
      },
      "source": [
        "df.Hospital.value_counts()"
      ],
      "execution_count": null,
      "outputs": [
        {
          "output_type": "execute_result",
          "data": {
            "text/plain": [
              "0010456 HBDF HOSPITAL DE BASE DO DISTRITO FEDERAL           735\n",
              "0010472 HRG                                                 555\n",
              "0010480 HOSPITAL REGIONAL DE CEILANDIA                      461\n",
              "0010464 HRAN                                                432\n",
              "0010499 HRT HOSPITAL REGIONAL DE TAGUATINGA                 373\n",
              "0010510 HOSPITAL UNIVERSITARIO DE BRASILIA                  350\n",
              "2645157 HRPA                                                327\n",
              "0010537 HOSPITAL MATERNO INFANTIL DE BRASILIA HMIB          298\n",
              "5717515 HRSM                                                281\n",
              "0010529 HRPL                                                256\n",
              "0010502 HRS                                                 225\n",
              "2672197 HRSAM HOSPITAL REGIONAL DE SAMAMBAIA                195\n",
              "3276678 INSTITUTO DE CARDIOLOGIA DO DISTRITO FEDERAL        191\n",
              "0010545 HRBZ                                                 75\n",
              "6876617 HOSPITAL DA CRIANCA DE BRASILIA JOSE ALENCAR HCB     74\n",
              "3055450 CBV CENTRO BRASILEIRO DA VISAO                       34\n",
              "Name: Hospital, dtype: int64"
            ]
          },
          "metadata": {
            "tags": []
          },
          "execution_count": 71
        }
      ]
    },
    {
      "cell_type": "code",
      "metadata": {
        "colab": {
          "base_uri": "https://localhost:8080/"
        },
        "id": "fQjUPNZY_F4J",
        "outputId": "3ce8434e-193a-4e6a-e2ab-9b45db398408"
      },
      "source": [
        "a = df['Sub grupo procedimento'].value_counts()\n",
        "a\n",
        "# quando se usa assim as quantidades, dá p plotar um gráfico"
      ],
      "execution_count": null,
      "outputs": [
        {
          "output_type": "execute_result",
          "data": {
            "text/plain": [
              "Sub Grupo: 11 - Cirurgia obst�trica                                                   1539\n",
              "Sub Grupo: 07 - Cirurgia do aparelho digestivo, orgãos anexos e parede abdominal       893\n",
              "Sub Grupo: 08 - Cirurgia do sistema osteomuscular                                      651\n",
              "Sub Grupo: 09 - Cirurgia do aparelho geniturinário                                     474\n",
              "Sub Grupo: 06 - Cirurgia do aparelho circulatório                                      299\n",
              "Sub Grupo: 15 - Outras cirurgias                                                       223\n",
              "Sub Grupo: 04 - Cirurgia das vias aéreas superiores, da cabeça e do pescoço            145\n",
              "Sub Grupo: 03 - Cirurgia do sistema nervoso central e periférico                       141\n",
              "Sub Grupo: 16 - Cirurgia em oncologia                                                  110\n",
              "Sub Grupo: 05 - Cirurgia do aparelho da vis�o                                           98\n",
              "Sub Grupo: 12 - Cirurgia torácica                                                       92\n",
              "Sub Grupo: 01 - Pequenas cirurgias e cirurgias de pele, tecido subcut�neo e mucosa      77\n",
              "Sub Grupo: 10 - Cirurgia de mama                                                        68\n",
              "Sub Grupo: 13 - Cirurgia reparadora                                                     40\n",
              "Sub Grupo: 14 - Cirurgia oro-facial                                                      7\n",
              "Sub Grupo: 02 - Cirurgia de gl�ndulas end�crinas                                         5\n",
              "Name: Sub grupo procedimento, dtype: int64"
            ]
          },
          "metadata": {
            "tags": []
          },
          "execution_count": 90
        }
      ]
    },
    {
      "cell_type": "code",
      "metadata": {
        "colab": {
          "base_uri": "https://localhost:8080/",
          "height": 700
        },
        "id": "rj0dz9YoEYiI",
        "outputId": "215be916-3522-49e3-ca6f-b4feafe660a6"
      },
      "source": [
        "a.plot.bar()"
      ],
      "execution_count": null,
      "outputs": [
        {
          "output_type": "execute_result",
          "data": {
            "text/plain": [
              "<matplotlib.axes._subplots.AxesSubplot at 0x7fa506582ba8>"
            ]
          },
          "metadata": {
            "tags": []
          },
          "execution_count": 75
        },
        {
          "output_type": "display_data",
          "data": {
            "image/png": "[encoded data removed]",
            "text/plain": [
              "<Figure size 432x288 with 1 Axes>"
            ]
          },
          "metadata": {
            "tags": [],
            "needs_background": "light"
          }
        }
      ]
    },
    {
      "cell_type": "code",
      "metadata": {
        "id": "zollqB96EaM6"
      },
      "source": [
        "## df[df[x] = y] ou seja, pegar a 'coluna hospistal', mas apenas os elementos da 'coluna hospistal' que são igual a y \n",
        "df2 = df[df['Hospital'] == '0010456 HBDF HOSPITAL DE BASE DO DISTRITO FEDERAL']\n",
        "# df2.head(20)"
      ],
      "execution_count": null,
      "outputs": []
    },
    {
      "cell_type": "code",
      "metadata": {
        "colab": {
          "base_uri": "https://localhost:8080/",
          "height": 196
        },
        "id": "zZtmYdQ-F8Dh",
        "outputId": "a423e2bd-678f-470e-fd5c-957a7e674296"
      },
      "source": [
        "#mostrar linhas aleatórias\n",
        "df2.sample(3)"
      ],
      "execution_count": null,
      "outputs": [
        {
          "output_type": "execute_result",
          "data": {
            "text/html": [
              "<div>\n",
              "<style scoped>\n",
              "    .dataframe tbody tr th:only-of-type {\n",
              "        vertical-align: middle;\n",
              "    }\n",
              "\n",
              "    .dataframe tbody tr th {\n",
              "        vertical-align: top;\n",
              "    }\n",
              "\n",
              "    .dataframe thead th {\n",
              "        text-align: right;\n",
              "    }\n",
              "</style>\n",
              "<table border=\"1\" class=\"dataframe\">\n",
              "  <thead>\n",
              "    <tr style=\"text-align: right;\">\n",
              "      <th></th>\n",
              "      <th>Hospital</th>\n",
              "      <th>Município</th>\n",
              "      <th>Complexidade</th>\n",
              "      <th>Caráter Atendimento</th>\n",
              "      <th>Sub grupo procedimento</th>\n",
              "      <th>Procedimento</th>\n",
              "    </tr>\n",
              "  </thead>\n",
              "  <tbody>\n",
              "    <tr>\n",
              "      <th>1992</th>\n",
              "      <td>0010456 HBDF HOSPITAL DE BASE DO DISTRITO FEDERAL</td>\n",
              "      <td>BRASILIA, DF, BR</td>\n",
              "      <td>Média complexidade</td>\n",
              "      <td>Eletivo</td>\n",
              "      <td>Sub Grupo: 12 - Cirurgia torácica</td>\n",
              "      <td>TORACOSTOMIA COM DRENAGEM PLEURAL FECHADA</td>\n",
              "    </tr>\n",
              "    <tr>\n",
              "      <th>2015</th>\n",
              "      <td>0010456 HBDF HOSPITAL DE BASE DO DISTRITO FEDERAL</td>\n",
              "      <td>BRASILIA, DF, BR</td>\n",
              "      <td>Média complexidade</td>\n",
              "      <td>Outros tipos lesões/envenenamentos por agentes...</td>\n",
              "      <td>Sub Grupo: 12 - Cirurgia torácica</td>\n",
              "      <td>TORACOSTOMIA COM DRENAGEM PLEURAL FECHADA</td>\n",
              "    </tr>\n",
              "    <tr>\n",
              "      <th>1896</th>\n",
              "      <td>0010456 HBDF HOSPITAL DE BASE DO DISTRITO FEDERAL</td>\n",
              "      <td>BRASILIA, DF, BR</td>\n",
              "      <td>Média complexidade</td>\n",
              "      <td>Eletivo</td>\n",
              "      <td>Sub Grupo: 06 - Cirurgia do aparelho circulatório</td>\n",
              "      <td>PERICARDIOCENTESE</td>\n",
              "    </tr>\n",
              "  </tbody>\n",
              "</table>\n",
              "</div>"
            ],
            "text/plain": [
              "                                               Hospital  ...                               Procedimento\n",
              "1992  0010456 HBDF HOSPITAL DE BASE DO DISTRITO FEDERAL  ...  TORACOSTOMIA COM DRENAGEM PLEURAL FECHADA\n",
              "2015  0010456 HBDF HOSPITAL DE BASE DO DISTRITO FEDERAL  ...  TORACOSTOMIA COM DRENAGEM PLEURAL FECHADA\n",
              "1896  0010456 HBDF HOSPITAL DE BASE DO DISTRITO FEDERAL  ...                          PERICARDIOCENTESE\n",
              "\n",
              "[3 rows x 6 columns]"
            ]
          },
          "metadata": {
            "tags": []
          },
          "execution_count": 83
        }
      ]
    },
    {
      "cell_type": "code",
      "metadata": {
        "colab": {
          "base_uri": "https://localhost:8080/"
        },
        "id": "TbzfqCnCGtYp",
        "outputId": "899097a9-6c8b-4f8a-e7a1-72451c788c4a"
      },
      "source": [
        "#procurar um elemento de uma coluna por palavra\n",
        "df2[df2['Procedimento'].str.contains('AMPUTA')].count()\n",
        "#ou seja, no hospital de base houve 33 procedimentos relacionados a amputação"
      ],
      "execution_count": null,
      "outputs": [
        {
          "output_type": "execute_result",
          "data": {
            "text/plain": [
              "Hospital                  33\n",
              "Município                 33\n",
              "Complexidade              33\n",
              "Caráter Atendimento       33\n",
              "Sub grupo procedimento    33\n",
              "Procedimento              33\n",
              "dtype: int64"
            ]
          },
          "metadata": {
            "tags": []
          },
          "execution_count": 88
        }
      ]
    },
    {
      "cell_type": "code",
      "metadata": {
        "colab": {
          "base_uri": "https://localhost:8080/",
          "height": 206
        },
        "id": "q78E5d4GHmlo",
        "outputId": "3281ea60-ef83-4872-dc60-7384aa68e614"
      },
      "source": [
        "#foi visto que o que mais tem é parto cesariano, mas agora gostaríamos de saber qual hospital faz mais parto cesariano\n",
        "parto_cesariano = df[df['Procedimento'] == 'PARTO CESARIANO'] #subconjunto formado por todos os procedimentos que sejam parto cesariano\n",
        "parto_cesariano.head()"
      ],
      "execution_count": null,
      "outputs": [
        {
          "output_type": "execute_result",
          "data": {
            "text/html": [
              "<div>\n",
              "<style scoped>\n",
              "    .dataframe tbody tr th:only-of-type {\n",
              "        vertical-align: middle;\n",
              "    }\n",
              "\n",
              "    .dataframe tbody tr th {\n",
              "        vertical-align: top;\n",
              "    }\n",
              "\n",
              "    .dataframe thead th {\n",
              "        text-align: right;\n",
              "    }\n",
              "</style>\n",
              "<table border=\"1\" class=\"dataframe\">\n",
              "  <thead>\n",
              "    <tr style=\"text-align: right;\">\n",
              "      <th></th>\n",
              "      <th>Hospital</th>\n",
              "      <th>Município</th>\n",
              "      <th>Complexidade</th>\n",
              "      <th>Caráter Atendimento</th>\n",
              "      <th>Sub grupo procedimento</th>\n",
              "      <th>Procedimento</th>\n",
              "    </tr>\n",
              "  </thead>\n",
              "  <tbody>\n",
              "    <tr>\n",
              "      <th>130</th>\n",
              "      <td>0010545 HRBZ</td>\n",
              "      <td>BRAZLANDIA, DF, BR</td>\n",
              "      <td>Média complexidade</td>\n",
              "      <td>Urgência</td>\n",
              "      <td>Sub Grupo: 11 - Cirurgia obst�trica</td>\n",
              "      <td>PARTO CESARIANO</td>\n",
              "    </tr>\n",
              "    <tr>\n",
              "      <th>131</th>\n",
              "      <td>0010545 HRBZ</td>\n",
              "      <td>BRAZLANDIA, DF, BR</td>\n",
              "      <td>Média complexidade</td>\n",
              "      <td>Urgência</td>\n",
              "      <td>Sub Grupo: 11 - Cirurgia obst�trica</td>\n",
              "      <td>PARTO CESARIANO</td>\n",
              "    </tr>\n",
              "    <tr>\n",
              "      <th>132</th>\n",
              "      <td>0010545 HRBZ</td>\n",
              "      <td>BRAZLANDIA, DF, BR</td>\n",
              "      <td>Média complexidade</td>\n",
              "      <td>Urgência</td>\n",
              "      <td>Sub Grupo: 11 - Cirurgia obst�trica</td>\n",
              "      <td>PARTO CESARIANO</td>\n",
              "    </tr>\n",
              "    <tr>\n",
              "      <th>133</th>\n",
              "      <td>0010545 HRBZ</td>\n",
              "      <td>BRAZLANDIA, DF, BR</td>\n",
              "      <td>Média complexidade</td>\n",
              "      <td>Urgência</td>\n",
              "      <td>Sub Grupo: 11 - Cirurgia obst�trica</td>\n",
              "      <td>PARTO CESARIANO</td>\n",
              "    </tr>\n",
              "    <tr>\n",
              "      <th>141</th>\n",
              "      <td>0010545 HRBZ</td>\n",
              "      <td>BRAZLANDIA, DF, BR</td>\n",
              "      <td>Média complexidade</td>\n",
              "      <td>Urgência</td>\n",
              "      <td>Sub Grupo: 11 - Cirurgia obst�trica</td>\n",
              "      <td>PARTO CESARIANO</td>\n",
              "    </tr>\n",
              "  </tbody>\n",
              "</table>\n",
              "</div>"
            ],
            "text/plain": [
              "         Hospital  ...     Procedimento\n",
              "130  0010545 HRBZ  ...  PARTO CESARIANO\n",
              "131  0010545 HRBZ  ...  PARTO CESARIANO\n",
              "132  0010545 HRBZ  ...  PARTO CESARIANO\n",
              "133  0010545 HRBZ  ...  PARTO CESARIANO\n",
              "141  0010545 HRBZ  ...  PARTO CESARIANO\n",
              "\n",
              "[5 rows x 6 columns]"
            ]
          },
          "metadata": {
            "tags": []
          },
          "execution_count": 96
        }
      ]
    },
    {
      "cell_type": "code",
      "metadata": {
        "colab": {
          "base_uri": "https://localhost:8080/"
        },
        "id": "6uKAWM3YJKSx",
        "outputId": "ac30ae2d-b750-40ae-a310-d8c5dfb69817"
      },
      "source": [
        "#verificar quantos partos teve por hospital (pela coluna hospital)\n",
        "parto_cesariano['Hospital'].value_counts()"
      ],
      "execution_count": null,
      "outputs": [
        {
          "output_type": "execute_result",
          "data": {
            "text/plain": [
              "0010480 HOSPITAL REGIONAL DE CEILANDIA                165\n",
              "2645157 HRPA                                          123\n",
              "5717515 HRSM                                          110\n",
              "0010537 HOSPITAL MATERNO INFANTIL DE BRASILIA HMIB     93\n",
              "2672197 HRSAM HOSPITAL REGIONAL DE SAMAMBAIA           92\n",
              "0010502 HRS                                            92\n",
              "0010464 HRAN                                           88\n",
              "0010529 HRPL                                           79\n",
              "0010499 HRT HOSPITAL REGIONAL DE TAGUATINGA            74\n",
              "0010510 HOSPITAL UNIVERSITARIO DE BRASILIA             63\n",
              "0010472 HRG                                            47\n",
              "0010545 HRBZ                                           34\n",
              "Name: Hospital, dtype: int64"
            ]
          },
          "metadata": {
            "tags": []
          },
          "execution_count": 105
        }
      ]
    },
    {
      "cell_type": "code",
      "metadata": {
        "colab": {
          "base_uri": "https://localhost:8080/",
          "height": 282
        },
        "id": "zg6jZfR0K0hm",
        "outputId": "84641272-88c4-4095-e6f8-81fa24a0d96c"
      },
      "source": [
        "parto_cesariano['Hospital'].value_counts().plot.barh()"
      ],
      "execution_count": null,
      "outputs": [
        {
          "output_type": "execute_result",
          "data": {
            "text/plain": [
              "<matplotlib.axes._subplots.AxesSubplot at 0x7fa5063711d0>"
            ]
          },
          "metadata": {
            "tags": []
          },
          "execution_count": 113
        },
        {
          "output_type": "display_data",
          "data": {
            "image/png": "[encoded data removed]",
            "text/plain": [
              "<Figure size 432x288 with 1 Axes>"
            ]
          },
          "metadata": {
            "tags": [],
            "needs_background": "light"
          }
        }
      ]
    },
    {
      "cell_type": "code",
      "metadata": {
        "colab": {
          "base_uri": "https://localhost:8080/",
          "height": 298
        },
        "id": "wcJOdEG7LRkB",
        "outputId": "9f1b4ef3-9636-4bb9-9de1-281c215f396b"
      },
      "source": [
        "parto_cesariano['Hospital'].value_counts(ascending=True).plot.barh(\n",
        "    title='Quantidade de Partos Cesarianos por hospital')\n"
      ],
      "execution_count": null,
      "outputs": [
        {
          "output_type": "execute_result",
          "data": {
            "text/plain": [
              "<matplotlib.axes._subplots.AxesSubplot at 0x7fa50622a668>"
            ]
          },
          "metadata": {
            "tags": []
          },
          "execution_count": 115
        },
        {
          "output_type": "display_data",
          "data": {
            "image/png": "[encoded data removed]",
            "text/plain": [
              "<Figure size 432x288 with 1 Axes>"
            ]
          },
          "metadata": {
            "tags": [],
            "needs_background": "light"
          }
        }
      ]
    },
    {
      "cell_type": "code",
      "metadata": {
        "colab": {
          "base_uri": "https://localhost:8080/"
        },
        "id": "GJlqADx7JdtM",
        "outputId": "9b293791-6b7c-4038-8b17-04988dcfb36d"
      },
      "source": [
        "#verificar quantos partos teve por carater de atendimento (pela coluna carater de atendimento)\n",
        "parto_cesariano['Caráter Atendimento'].value_counts()"
      ],
      "execution_count": null,
      "outputs": [
        {
          "output_type": "execute_result",
          "data": {
            "text/plain": [
              "Urgência    1041\n",
              "Eletivo       19\n",
              "Name: Caráter Atendimento, dtype: int64"
            ]
          },
          "metadata": {
            "tags": []
          },
          "execution_count": 107
        }
      ]
    },
    {
      "cell_type": "code",
      "metadata": {
        "colab": {
          "base_uri": "https://localhost:8080/",
          "height": 265
        },
        "id": "YXaF6wqoKbTR",
        "outputId": "be8af070-8f15-483a-ad20-070042cc2b26"
      },
      "source": [
        ""
      ],
      "execution_count": null,
      "outputs": [
        {
          "output_type": "execute_result",
          "data": {
            "text/plain": [
              "<matplotlib.axes._subplots.AxesSubplot at 0x7fa507a38198>"
            ]
          },
          "metadata": {
            "tags": []
          },
          "execution_count": 110
        },
        {
          "output_type": "display_data",
          "data": {
            "image/png": "[encoded data removed]",
            "text/plain": [
              "<Figure size 432x288 with 1 Axes>"
            ]
          },
          "metadata": {
            "tags": []
          }
        }
      ]
    },
    {
      "cell_type": "code",
      "metadata": {
        "id": "l_ILg8KmKck0"
      },
      "source": [
        "df = pd.read_csv('/content/cursosProuni.csv')"
      ],
      "execution_count": 4,
      "outputs": []
    },
    {
      "cell_type": "code",
      "metadata": {
        "colab": {
          "base_uri": "https://localhost:8080/",
          "height": 435
        },
        "id": "kqxKQyrORbPj",
        "outputId": "eb96d50b-e6e8-4cfd-9949-875e348f0eed"
      },
      "source": [
        "df.head()"
      ],
      "execution_count": 5,
      "outputs": [
        {
          "output_type": "execute_result",
          "data": {
            "text/html": [
              "<div>\n",
              "<style scoped>\n",
              "    .dataframe tbody tr th:only-of-type {\n",
              "        vertical-align: middle;\n",
              "    }\n",
              "\n",
              "    .dataframe tbody tr th {\n",
              "        vertical-align: top;\n",
              "    }\n",
              "\n",
              "    .dataframe thead th {\n",
              "        text-align: right;\n",
              "    }\n",
              "</style>\n",
              "<table border=\"1\" class=\"dataframe\">\n",
              "  <thead>\n",
              "    <tr style=\"text-align: right;\">\n",
              "      <th></th>\n",
              "      <th>uf_busca</th>\n",
              "      <th>cidade_busca</th>\n",
              "      <th>universidade_nome</th>\n",
              "      <th>campus_nome</th>\n",
              "      <th>nome</th>\n",
              "      <th>grau</th>\n",
              "      <th>turno</th>\n",
              "      <th>mensalidade</th>\n",
              "      <th>bolsa_integral_cotas</th>\n",
              "      <th>bolsa_integral_ampla</th>\n",
              "      <th>bolsa_parcial_cotas</th>\n",
              "      <th>bolsa_parcial_ampla</th>\n",
              "      <th>nota_integral_ampla</th>\n",
              "      <th>nota_integral_cotas</th>\n",
              "      <th>nota_parcial_ampla</th>\n",
              "      <th>nota_parcial_cotas</th>\n",
              "    </tr>\n",
              "  </thead>\n",
              "  <tbody>\n",
              "    <tr>\n",
              "      <th>0</th>\n",
              "      <td>AC</td>\n",
              "      <td>Acrelandia</td>\n",
              "      <td>Universidade Paulista - UNIP</td>\n",
              "      <td>ACRELANDIA - Centro</td>\n",
              "      <td>Administração</td>\n",
              "      <td>Bacharelado</td>\n",
              "      <td>Curso a Distância</td>\n",
              "      <td>289.0</td>\n",
              "      <td>1.0</td>\n",
              "      <td>1.0</td>\n",
              "      <td>NaN</td>\n",
              "      <td>NaN</td>\n",
              "      <td>572.74</td>\n",
              "      <td>548.0</td>\n",
              "      <td>NaN</td>\n",
              "      <td>NaN</td>\n",
              "    </tr>\n",
              "    <tr>\n",
              "      <th>1</th>\n",
              "      <td>AC</td>\n",
              "      <td>Cruzeiro do Sul</td>\n",
              "      <td>Centro Universitário Internacional - Uninter -...</td>\n",
              "      <td>PAP CRUZEIRO DO SUL - Centro</td>\n",
              "      <td>Administração</td>\n",
              "      <td>Bacharelado</td>\n",
              "      <td>Curso a Distância</td>\n",
              "      <td>298.0</td>\n",
              "      <td>1.0</td>\n",
              "      <td>NaN</td>\n",
              "      <td>NaN</td>\n",
              "      <td>NaN</td>\n",
              "      <td>646.14</td>\n",
              "      <td>NaN</td>\n",
              "      <td>NaN</td>\n",
              "      <td>NaN</td>\n",
              "    </tr>\n",
              "    <tr>\n",
              "      <th>2</th>\n",
              "      <td>AC</td>\n",
              "      <td>Cruzeiro do Sul</td>\n",
              "      <td>Faculdade Educacional da Lapa - FAEL</td>\n",
              "      <td>AC - CRUZEIRO DO SUL - POLO EAD - CENTRO</td>\n",
              "      <td>Administração</td>\n",
              "      <td>Bacharelado</td>\n",
              "      <td>Curso a Distância</td>\n",
              "      <td>325.0</td>\n",
              "      <td>NaN</td>\n",
              "      <td>NaN</td>\n",
              "      <td>1.0</td>\n",
              "      <td>NaN</td>\n",
              "      <td>NaN</td>\n",
              "      <td>NaN</td>\n",
              "      <td>577.62</td>\n",
              "      <td>NaN</td>\n",
              "    </tr>\n",
              "    <tr>\n",
              "      <th>3</th>\n",
              "      <td>AC</td>\n",
              "      <td>Cruzeiro do Sul</td>\n",
              "      <td>Universidade Paulista - UNIP</td>\n",
              "      <td>CRUZEIRO DO SUL - Centro</td>\n",
              "      <td>Administração</td>\n",
              "      <td>Bacharelado</td>\n",
              "      <td>Curso a Distância</td>\n",
              "      <td>319.0</td>\n",
              "      <td>1.0</td>\n",
              "      <td>NaN</td>\n",
              "      <td>NaN</td>\n",
              "      <td>NaN</td>\n",
              "      <td>616.68</td>\n",
              "      <td>NaN</td>\n",
              "      <td>NaN</td>\n",
              "      <td>NaN</td>\n",
              "    </tr>\n",
              "    <tr>\n",
              "      <th>4</th>\n",
              "      <td>AC</td>\n",
              "      <td>Rio Branco</td>\n",
              "      <td>Centro Universitário Internacional - Uninter -...</td>\n",
              "      <td>PAP RIO BRANCO - Bosque</td>\n",
              "      <td>Administração</td>\n",
              "      <td>Bacharelado</td>\n",
              "      <td>Curso a Distância</td>\n",
              "      <td>298.0</td>\n",
              "      <td>NaN</td>\n",
              "      <td>NaN</td>\n",
              "      <td>1.0</td>\n",
              "      <td>NaN</td>\n",
              "      <td>NaN</td>\n",
              "      <td>NaN</td>\n",
              "      <td>569.00</td>\n",
              "      <td>NaN</td>\n",
              "    </tr>\n",
              "  </tbody>\n",
              "</table>\n",
              "</div>"
            ],
            "text/plain": [
              "  uf_busca     cidade_busca  ... nota_parcial_ampla nota_parcial_cotas\n",
              "0       AC       Acrelandia  ...                NaN                NaN\n",
              "1       AC  Cruzeiro do Sul  ...                NaN                NaN\n",
              "2       AC  Cruzeiro do Sul  ...             577.62                NaN\n",
              "3       AC  Cruzeiro do Sul  ...                NaN                NaN\n",
              "4       AC       Rio Branco  ...             569.00                NaN\n",
              "\n",
              "[5 rows x 16 columns]"
            ]
          },
          "metadata": {
            "tags": []
          },
          "execution_count": 5
        }
      ]
    },
    {
      "cell_type": "code",
      "metadata": {
        "colab": {
          "base_uri": "https://localhost:8080/"
        },
        "id": "Au9yvMnARgqg",
        "outputId": "d6992c93-1f71-419b-ce2e-3c3c569d4beb"
      },
      "source": [
        "#(linhas, colunas)\n",
        "df.shape"
      ],
      "execution_count": 7,
      "outputs": [
        {
          "output_type": "execute_result",
          "data": {
            "text/plain": [
              "(41447, 16)"
            ]
          },
          "metadata": {
            "tags": []
          },
          "execution_count": 7
        }
      ]
    },
    {
      "cell_type": "code",
      "metadata": {
        "colab": {
          "base_uri": "https://localhost:8080/"
        },
        "id": "nB9ifEdARq5f",
        "outputId": "96c54a1e-bb35-4b0f-addf-1b0ac2ce1601"
      },
      "source": [
        "df.dtypes"
      ],
      "execution_count": 8,
      "outputs": [
        {
          "output_type": "execute_result",
          "data": {
            "text/plain": [
              "uf_busca                 object\n",
              "cidade_busca             object\n",
              "universidade_nome        object\n",
              "campus_nome              object\n",
              "nome                     object\n",
              "grau                     object\n",
              "turno                    object\n",
              "mensalidade             float64\n",
              "bolsa_integral_cotas    float64\n",
              "bolsa_integral_ampla    float64\n",
              "bolsa_parcial_cotas     float64\n",
              "bolsa_parcial_ampla     float64\n",
              "nota_integral_ampla     float64\n",
              "nota_integral_cotas     float64\n",
              "nota_parcial_ampla      float64\n",
              "nota_parcial_cotas      float64\n",
              "dtype: object"
            ]
          },
          "metadata": {
            "tags": []
          },
          "execution_count": 8
        }
      ]
    },
    {
      "cell_type": "code",
      "metadata": {
        "colab": {
          "base_uri": "https://localhost:8080/",
          "height": 320
        },
        "id": "H5-UMKRiR3UV",
        "outputId": "1eda6c16-4040-4db1-eb6d-6c81d85af8ef"
      },
      "source": [
        "df.describe()"
      ],
      "execution_count": 9,
      "outputs": [
        {
          "output_type": "execute_result",
          "data": {
            "text/html": [
              "<div>\n",
              "<style scoped>\n",
              "    .dataframe tbody tr th:only-of-type {\n",
              "        vertical-align: middle;\n",
              "    }\n",
              "\n",
              "    .dataframe tbody tr th {\n",
              "        vertical-align: top;\n",
              "    }\n",
              "\n",
              "    .dataframe thead th {\n",
              "        text-align: right;\n",
              "    }\n",
              "</style>\n",
              "<table border=\"1\" class=\"dataframe\">\n",
              "  <thead>\n",
              "    <tr style=\"text-align: right;\">\n",
              "      <th></th>\n",
              "      <th>mensalidade</th>\n",
              "      <th>bolsa_integral_cotas</th>\n",
              "      <th>bolsa_integral_ampla</th>\n",
              "      <th>bolsa_parcial_cotas</th>\n",
              "      <th>bolsa_parcial_ampla</th>\n",
              "      <th>nota_integral_ampla</th>\n",
              "      <th>nota_integral_cotas</th>\n",
              "      <th>nota_parcial_ampla</th>\n",
              "      <th>nota_parcial_cotas</th>\n",
              "    </tr>\n",
              "  </thead>\n",
              "  <tbody>\n",
              "    <tr>\n",
              "      <th>count</th>\n",
              "      <td>41447.000000</td>\n",
              "      <td>32520.000000</td>\n",
              "      <td>25404.000000</td>\n",
              "      <td>8828.000000</td>\n",
              "      <td>13041.000000</td>\n",
              "      <td>32520.000000</td>\n",
              "      <td>16802.000000</td>\n",
              "      <td>16350.000000</td>\n",
              "      <td>5519.000000</td>\n",
              "    </tr>\n",
              "    <tr>\n",
              "      <th>mean</th>\n",
              "      <td>622.636966</td>\n",
              "      <td>1.535394</td>\n",
              "      <td>2.513541</td>\n",
              "      <td>1.873018</td>\n",
              "      <td>8.632544</td>\n",
              "      <td>575.982999</td>\n",
              "      <td>564.470439</td>\n",
              "      <td>527.517136</td>\n",
              "      <td>511.799638</td>\n",
              "    </tr>\n",
              "    <tr>\n",
              "      <th>std</th>\n",
              "      <td>606.442296</td>\n",
              "      <td>2.191578</td>\n",
              "      <td>3.019549</td>\n",
              "      <td>2.336403</td>\n",
              "      <td>18.372991</td>\n",
              "      <td>57.827594</td>\n",
              "      <td>57.869145</td>\n",
              "      <td>60.202170</td>\n",
              "      <td>56.787140</td>\n",
              "    </tr>\n",
              "    <tr>\n",
              "      <th>min</th>\n",
              "      <td>139.000000</td>\n",
              "      <td>0.000000</td>\n",
              "      <td>1.000000</td>\n",
              "      <td>1.000000</td>\n",
              "      <td>1.000000</td>\n",
              "      <td>450.000000</td>\n",
              "      <td>450.000000</td>\n",
              "      <td>450.000000</td>\n",
              "      <td>450.000000</td>\n",
              "    </tr>\n",
              "    <tr>\n",
              "      <th>25%</th>\n",
              "      <td>278.000000</td>\n",
              "      <td>0.000000</td>\n",
              "      <td>1.000000</td>\n",
              "      <td>1.000000</td>\n",
              "      <td>1.000000</td>\n",
              "      <td>544.360000</td>\n",
              "      <td>532.865000</td>\n",
              "      <td>453.980000</td>\n",
              "      <td>450.000000</td>\n",
              "    </tr>\n",
              "    <tr>\n",
              "      <th>50%</th>\n",
              "      <td>393.350000</td>\n",
              "      <td>1.000000</td>\n",
              "      <td>1.000000</td>\n",
              "      <td>1.000000</td>\n",
              "      <td>2.000000</td>\n",
              "      <td>580.740000</td>\n",
              "      <td>571.450000</td>\n",
              "      <td>532.420000</td>\n",
              "      <td>511.820000</td>\n",
              "    </tr>\n",
              "    <tr>\n",
              "      <th>75%</th>\n",
              "      <td>825.000000</td>\n",
              "      <td>2.000000</td>\n",
              "      <td>3.000000</td>\n",
              "      <td>2.000000</td>\n",
              "      <td>6.000000</td>\n",
              "      <td>614.145000</td>\n",
              "      <td>603.315000</td>\n",
              "      <td>573.235000</td>\n",
              "      <td>557.170000</td>\n",
              "    </tr>\n",
              "    <tr>\n",
              "      <th>max</th>\n",
              "      <td>9999.990000</td>\n",
              "      <td>58.000000</td>\n",
              "      <td>67.000000</td>\n",
              "      <td>74.000000</td>\n",
              "      <td>350.000000</td>\n",
              "      <td>781.200000</td>\n",
              "      <td>792.240000</td>\n",
              "      <td>776.360000</td>\n",
              "      <td>768.340000</td>\n",
              "    </tr>\n",
              "  </tbody>\n",
              "</table>\n",
              "</div>"
            ],
            "text/plain": [
              "        mensalidade  ...  nota_parcial_cotas\n",
              "count  41447.000000  ...         5519.000000\n",
              "mean     622.636966  ...          511.799638\n",
              "std      606.442296  ...           56.787140\n",
              "min      139.000000  ...          450.000000\n",
              "25%      278.000000  ...          450.000000\n",
              "50%      393.350000  ...          511.820000\n",
              "75%      825.000000  ...          557.170000\n",
              "max     9999.990000  ...          768.340000\n",
              "\n",
              "[8 rows x 9 columns]"
            ]
          },
          "metadata": {
            "tags": []
          },
          "execution_count": 9
        }
      ]
    },
    {
      "cell_type": "code",
      "metadata": {
        "colab": {
          "base_uri": "https://localhost:8080/"
        },
        "id": "Sj-QdzqdR-Up",
        "outputId": "223808a1-e1fe-4a03-a706-caf9ed5a65f2"
      },
      "source": [
        "df.info()"
      ],
      "execution_count": 10,
      "outputs": [
        {
          "output_type": "stream",
          "text": [
            "<class 'pandas.core.frame.DataFrame'>\n",
            "RangeIndex: 41447 entries, 0 to 41446\n",
            "Data columns (total 16 columns):\n",
            " #   Column                Non-Null Count  Dtype  \n",
            "---  ------                --------------  -----  \n",
            " 0   uf_busca              41447 non-null  object \n",
            " 1   cidade_busca          41447 non-null  object \n",
            " 2   universidade_nome     41447 non-null  object \n",
            " 3   campus_nome           41447 non-null  object \n",
            " 4   nome                  41447 non-null  object \n",
            " 5   grau                  41447 non-null  object \n",
            " 6   turno                 41447 non-null  object \n",
            " 7   mensalidade           41447 non-null  float64\n",
            " 8   bolsa_integral_cotas  32520 non-null  float64\n",
            " 9   bolsa_integral_ampla  25404 non-null  float64\n",
            " 10  bolsa_parcial_cotas   8828 non-null   float64\n",
            " 11  bolsa_parcial_ampla   13041 non-null  float64\n",
            " 12  nota_integral_ampla   32520 non-null  float64\n",
            " 13  nota_integral_cotas   16802 non-null  float64\n",
            " 14  nota_parcial_ampla    16350 non-null  float64\n",
            " 15  nota_parcial_cotas    5519 non-null   float64\n",
            "dtypes: float64(9), object(7)\n",
            "memory usage: 5.1+ MB\n"
          ],
          "name": "stdout"
        }
      ]
    },
    {
      "cell_type": "code",
      "metadata": {
        "colab": {
          "base_uri": "https://localhost:8080/"
        },
        "id": "YNbVxW82ydro",
        "outputId": "4a1acd95-99d0-4f23-ae42-c4443dd4da35"
      },
      "source": [
        "df['uf_busca'].value_counts()"
      ],
      "execution_count": 12,
      "outputs": [
        {
          "output_type": "execute_result",
          "data": {
            "text/plain": [
              "SP    11533\n",
              "MG     4175\n",
              "PR     3918\n",
              "RS     3060\n",
              "BA     2505\n",
              "SC     2195\n",
              "RJ     1442\n",
              "GO     1278\n",
              "PA     1201\n",
              "PE     1148\n",
              "MT     1063\n",
              "DF     1063\n",
              "ES      825\n",
              "CE      816\n",
              "MS      785\n",
              "MA      679\n",
              "PB      596\n",
              "RO      463\n",
              "AM      429\n",
              "PI      405\n",
              "TO      343\n",
              "RN      342\n",
              "AL      327\n",
              "SE      323\n",
              "AP      219\n",
              "AC      203\n",
              "RR      111\n",
              "Name: uf_busca, dtype: int64"
            ]
          },
          "metadata": {
            "tags": []
          },
          "execution_count": 12
        }
      ]
    },
    {
      "cell_type": "code",
      "metadata": {
        "colab": {
          "base_uri": "https://localhost:8080/",
          "height": 153
        },
        "id": "xE47ldsP0j4n",
        "outputId": "21ace2f8-988d-47c4-9020-2404921cbb0c"
      },
      "source": [
        "#curso de maior mensalidade\n",
        "#se quiser ver mais de uma coluna usa-se dois colchetes\n",
        "df[df.mensalidade == df.mensalidade.max()]"
      ],
      "execution_count": 28,
      "outputs": [
        {
          "output_type": "execute_result",
          "data": {
            "text/html": [
              "<div>\n",
              "<style scoped>\n",
              "    .dataframe tbody tr th:only-of-type {\n",
              "        vertical-align: middle;\n",
              "    }\n",
              "\n",
              "    .dataframe tbody tr th {\n",
              "        vertical-align: top;\n",
              "    }\n",
              "\n",
              "    .dataframe thead th {\n",
              "        text-align: right;\n",
              "    }\n",
              "</style>\n",
              "<table border=\"1\" class=\"dataframe\">\n",
              "  <thead>\n",
              "    <tr style=\"text-align: right;\">\n",
              "      <th></th>\n",
              "      <th>uf_busca</th>\n",
              "      <th>cidade_busca</th>\n",
              "      <th>universidade_nome</th>\n",
              "      <th>campus_nome</th>\n",
              "      <th>nome</th>\n",
              "      <th>grau</th>\n",
              "      <th>turno</th>\n",
              "      <th>mensalidade</th>\n",
              "      <th>bolsa_integral_cotas</th>\n",
              "      <th>bolsa_integral_ampla</th>\n",
              "      <th>bolsa_parcial_cotas</th>\n",
              "      <th>bolsa_parcial_ampla</th>\n",
              "      <th>nota_integral_ampla</th>\n",
              "      <th>nota_integral_cotas</th>\n",
              "      <th>nota_parcial_ampla</th>\n",
              "      <th>nota_parcial_cotas</th>\n",
              "    </tr>\n",
              "  </thead>\n",
              "  <tbody>\n",
              "    <tr>\n",
              "      <th>31987</th>\n",
              "      <td>MS</td>\n",
              "      <td>Campo Grande</td>\n",
              "      <td>Universidade Anhanguera - UNIDERP</td>\n",
              "      <td>CAMPO GRANDE - SEDE - Miguel Couto</td>\n",
              "      <td>Medicina</td>\n",
              "      <td>Bacharelado</td>\n",
              "      <td>Integral</td>\n",
              "      <td>9999.99</td>\n",
              "      <td>15.0</td>\n",
              "      <td>14.0</td>\n",
              "      <td>NaN</td>\n",
              "      <td>NaN</td>\n",
              "      <td>740.22</td>\n",
              "      <td>726.46</td>\n",
              "      <td>NaN</td>\n",
              "      <td>NaN</td>\n",
              "    </tr>\n",
              "  </tbody>\n",
              "</table>\n",
              "</div>"
            ],
            "text/plain": [
              "      uf_busca  cidade_busca  ... nota_parcial_ampla nota_parcial_cotas\n",
              "31987       MS  Campo Grande  ...                NaN                NaN\n",
              "\n",
              "[1 rows x 16 columns]"
            ]
          },
          "metadata": {
            "tags": []
          },
          "execution_count": 28
        }
      ]
    },
    {
      "cell_type": "code",
      "metadata": {
        "colab": {
          "base_uri": "https://localhost:8080/",
          "height": 144
        },
        "id": "kcUkB6Wv2UZU",
        "outputId": "2e5f5aad-039e-4381-accb-3955a125e83d"
      },
      "source": [
        "#curso de maior mensalidade com menos colunas\n",
        "df[df.mensalidade == df.mensalidade.min()][['uf_busca', 'cidade_busca', 'universidade_nome', 'nome', 'mensalidade']]"
      ],
      "execution_count": 33,
      "outputs": [
        {
          "output_type": "execute_result",
          "data": {
            "text/html": [
              "<div>\n",
              "<style scoped>\n",
              "    .dataframe tbody tr th:only-of-type {\n",
              "        vertical-align: middle;\n",
              "    }\n",
              "\n",
              "    .dataframe tbody tr th {\n",
              "        vertical-align: top;\n",
              "    }\n",
              "\n",
              "    .dataframe thead th {\n",
              "        text-align: right;\n",
              "    }\n",
              "</style>\n",
              "<table border=\"1\" class=\"dataframe\">\n",
              "  <thead>\n",
              "    <tr style=\"text-align: right;\">\n",
              "      <th></th>\n",
              "      <th>uf_busca</th>\n",
              "      <th>cidade_busca</th>\n",
              "      <th>universidade_nome</th>\n",
              "      <th>nome</th>\n",
              "      <th>mensalidade</th>\n",
              "    </tr>\n",
              "  </thead>\n",
              "  <tbody>\n",
              "    <tr>\n",
              "      <th>20454</th>\n",
              "      <td>PA</td>\n",
              "      <td>Santarem</td>\n",
              "      <td>Universidade Paulista - UNIP</td>\n",
              "      <td>Gestão Ambiental</td>\n",
              "      <td>139.0</td>\n",
              "    </tr>\n",
              "    <tr>\n",
              "      <th>22934</th>\n",
              "      <td>DF</td>\n",
              "      <td>Brasilia</td>\n",
              "      <td>Centro Universitário Planalto do Distrito Fede...</td>\n",
              "      <td>Gestão de Recursos Humanos</td>\n",
              "      <td>139.0</td>\n",
              "    </tr>\n",
              "    <tr>\n",
              "      <th>39118</th>\n",
              "      <td>ES</td>\n",
              "      <td>Vitoria</td>\n",
              "      <td>Universidade Paulista - UNIP</td>\n",
              "      <td>Serviço Social</td>\n",
              "      <td>139.0</td>\n",
              "    </tr>\n",
              "  </tbody>\n",
              "</table>\n",
              "</div>"
            ],
            "text/plain": [
              "      uf_busca cidade_busca  ...                        nome mensalidade\n",
              "20454       PA     Santarem  ...            Gestão Ambiental       139.0\n",
              "22934       DF     Brasilia  ...  Gestão de Recursos Humanos       139.0\n",
              "39118       ES      Vitoria  ...              Serviço Social       139.0\n",
              "\n",
              "[3 rows x 5 columns]"
            ]
          },
          "metadata": {
            "tags": []
          },
          "execution_count": 33
        }
      ]
    },
    {
      "cell_type": "code",
      "metadata": {
        "colab": {
          "base_uri": "https://localhost:8080/"
        },
        "id": "HYmaryi34AbM",
        "outputId": "4a50fc98-0143-4102-f547-4e961353023b"
      },
      "source": [
        "#mensalidade mais cara por uf\n",
        "df.groupby('uf_busca')['mensalidade'].max()"
      ],
      "execution_count": 35,
      "outputs": [
        {
          "output_type": "execute_result",
          "data": {
            "text/plain": [
              "uf_busca\n",
              "AC    9674.34\n",
              "AL    7290.00\n",
              "AM    2127.05\n",
              "AP    3607.62\n",
              "BA    9048.00\n",
              "CE    9836.40\n",
              "DF    6757.92\n",
              "ES    6022.28\n",
              "GO    6484.47\n",
              "MA    8281.38\n",
              "MG    9350.00\n",
              "MS    9999.99\n",
              "MT    9208.00\n",
              "PA    8508.54\n",
              "PB    8350.00\n",
              "PE    7250.00\n",
              "PI    8402.00\n",
              "PR    8466.72\n",
              "RJ    9023.07\n",
              "RN    6505.09\n",
              "RO    6909.97\n",
              "RR    1463.05\n",
              "RS    8329.95\n",
              "SC    6922.15\n",
              "SE    6490.00\n",
              "SP    9715.61\n",
              "TO    7800.00\n",
              "Name: mensalidade, dtype: float64"
            ]
          },
          "metadata": {
            "tags": []
          },
          "execution_count": 35
        }
      ]
    },
    {
      "cell_type": "code",
      "metadata": {
        "colab": {
          "base_uri": "https://localhost:8080/",
          "height": 896
        },
        "id": "A2WyIGMo5Q0n",
        "outputId": "e259c41c-a825-4034-acb6-cd5ede3bb419"
      },
      "source": [
        "#mostrar todos os dados dos cursos mais caros por uf\n",
        "df.loc[df.groupby('uf_busca')['mensalidade'].idxmax()][['uf_busca', 'cidade_busca', 'universidade_nome', 'nome', 'mensalidade']]\n"
      ],
      "execution_count": 41,
      "outputs": [
        {
          "output_type": "execute_result",
          "data": {
            "text/html": [
              "<div>\n",
              "<style scoped>\n",
              "    .dataframe tbody tr th:only-of-type {\n",
              "        vertical-align: middle;\n",
              "    }\n",
              "\n",
              "    .dataframe tbody tr th {\n",
              "        vertical-align: top;\n",
              "    }\n",
              "\n",
              "    .dataframe thead th {\n",
              "        text-align: right;\n",
              "    }\n",
              "</style>\n",
              "<table border=\"1\" class=\"dataframe\">\n",
              "  <thead>\n",
              "    <tr style=\"text-align: right;\">\n",
              "      <th></th>\n",
              "      <th>uf_busca</th>\n",
              "      <th>cidade_busca</th>\n",
              "      <th>universidade_nome</th>\n",
              "      <th>nome</th>\n",
              "      <th>mensalidade</th>\n",
              "    </tr>\n",
              "  </thead>\n",
              "  <tbody>\n",
              "    <tr>\n",
              "      <th>31940</th>\n",
              "      <td>AC</td>\n",
              "      <td>Rio Branco</td>\n",
              "      <td>Faculdade Barão do Rio Branco - FAB</td>\n",
              "      <td>Medicina</td>\n",
              "      <td>9674.34</td>\n",
              "    </tr>\n",
              "    <tr>\n",
              "      <th>31941</th>\n",
              "      <td>AL</td>\n",
              "      <td>Maceio</td>\n",
              "      <td>Centro Universitário Tiradentes - FITS</td>\n",
              "      <td>Medicina</td>\n",
              "      <td>7290.00</td>\n",
              "    </tr>\n",
              "    <tr>\n",
              "      <th>32962</th>\n",
              "      <td>AM</td>\n",
              "      <td>Manaus</td>\n",
              "      <td>Faculdade Uninassau Manaus</td>\n",
              "      <td>Odontologia</td>\n",
              "      <td>2127.05</td>\n",
              "    </tr>\n",
              "    <tr>\n",
              "      <th>32966</th>\n",
              "      <td>AP</td>\n",
              "      <td>Macapa</td>\n",
              "      <td>Instituto Macapaense de Ensino Superior - IMMES</td>\n",
              "      <td>Odontologia</td>\n",
              "      <td>3607.62</td>\n",
              "    </tr>\n",
              "    <tr>\n",
              "      <th>31945</th>\n",
              "      <td>BA</td>\n",
              "      <td>Lauro de Freitas</td>\n",
              "      <td>Faculdade de Ciências Agrárias e da Saúde - FAS</td>\n",
              "      <td>Medicina</td>\n",
              "      <td>9048.00</td>\n",
              "    </tr>\n",
              "    <tr>\n",
              "      <th>12916</th>\n",
              "      <td>CE</td>\n",
              "      <td>Crateus</td>\n",
              "      <td>Faculdade Princesa do Oeste - FPO</td>\n",
              "      <td>Enfermagem</td>\n",
              "      <td>9836.40</td>\n",
              "    </tr>\n",
              "    <tr>\n",
              "      <th>31950</th>\n",
              "      <td>DF</td>\n",
              "      <td>Brasilia</td>\n",
              "      <td>Faculdades Integradas da União Educacional do ...</td>\n",
              "      <td>Medicina</td>\n",
              "      <td>6757.92</td>\n",
              "    </tr>\n",
              "    <tr>\n",
              "      <th>31952</th>\n",
              "      <td>ES</td>\n",
              "      <td>Colatina</td>\n",
              "      <td>Centro Universitário do Espírito Santo - Unesc...</td>\n",
              "      <td>Medicina</td>\n",
              "      <td>6022.28</td>\n",
              "    </tr>\n",
              "    <tr>\n",
              "      <th>31957</th>\n",
              "      <td>GO</td>\n",
              "      <td>Goiania</td>\n",
              "      <td>Pontifícia Universidade Católica de Goiás - PU...</td>\n",
              "      <td>Medicina</td>\n",
              "      <td>6484.47</td>\n",
              "    </tr>\n",
              "    <tr>\n",
              "      <th>31959</th>\n",
              "      <td>MA</td>\n",
              "      <td>Imperatriz</td>\n",
              "      <td>Universidade do Ceuma - Uniceuma - UNICEUMA</td>\n",
              "      <td>Medicina</td>\n",
              "      <td>8281.38</td>\n",
              "    </tr>\n",
              "    <tr>\n",
              "      <th>31983</th>\n",
              "      <td>MG</td>\n",
              "      <td>Sao Joao Del Rei</td>\n",
              "      <td>Centro Universitário Presidente Tancredo de Al...</td>\n",
              "      <td>Medicina</td>\n",
              "      <td>9350.00</td>\n",
              "    </tr>\n",
              "    <tr>\n",
              "      <th>31987</th>\n",
              "      <td>MS</td>\n",
              "      <td>Campo Grande</td>\n",
              "      <td>Universidade Anhanguera - UNIDERP</td>\n",
              "      <td>Medicina</td>\n",
              "      <td>9999.99</td>\n",
              "    </tr>\n",
              "    <tr>\n",
              "      <th>31988</th>\n",
              "      <td>MT</td>\n",
              "      <td>Cuiaba</td>\n",
              "      <td>Universidade de Cuiabá - UNIC/UNIME</td>\n",
              "      <td>Medicina</td>\n",
              "      <td>9208.00</td>\n",
              "    </tr>\n",
              "    <tr>\n",
              "      <th>31990</th>\n",
              "      <td>PA</td>\n",
              "      <td>Belem</td>\n",
              "      <td>Faculdade Metropolitana da Amazônia - FAMAZ</td>\n",
              "      <td>Medicina</td>\n",
              "      <td>8508.54</td>\n",
              "    </tr>\n",
              "    <tr>\n",
              "      <th>31995</th>\n",
              "      <td>PB</td>\n",
              "      <td>Joao Pessoa</td>\n",
              "      <td>Faculdade de Medicina Nova Esperança - FAMENE</td>\n",
              "      <td>Medicina</td>\n",
              "      <td>8350.00</td>\n",
              "    </tr>\n",
              "    <tr>\n",
              "      <th>31997</th>\n",
              "      <td>PE</td>\n",
              "      <td>Olinda</td>\n",
              "      <td>Faculdade de Medicina de Olinda - FMO</td>\n",
              "      <td>Medicina</td>\n",
              "      <td>7250.00</td>\n",
              "    </tr>\n",
              "    <tr>\n",
              "      <th>32001</th>\n",
              "      <td>PI</td>\n",
              "      <td>Parnaiba</td>\n",
              "      <td>Faculdade de Ciências Humanas,Exatas e da Saúd...</td>\n",
              "      <td>Medicina</td>\n",
              "      <td>8402.00</td>\n",
              "    </tr>\n",
              "    <tr>\n",
              "      <th>11916</th>\n",
              "      <td>PR</td>\n",
              "      <td>Curitiba</td>\n",
              "      <td>Faculdade Dom Bosco - FDB</td>\n",
              "      <td>Educação Física</td>\n",
              "      <td>8466.72</td>\n",
              "    </tr>\n",
              "    <tr>\n",
              "      <th>32012</th>\n",
              "      <td>RJ</td>\n",
              "      <td>Itaperuna</td>\n",
              "      <td>Faculdade Redentor - FACREDENTOR</td>\n",
              "      <td>Medicina</td>\n",
              "      <td>9023.07</td>\n",
              "    </tr>\n",
              "    <tr>\n",
              "      <th>32017</th>\n",
              "      <td>RN</td>\n",
              "      <td>Natal</td>\n",
              "      <td>Universidade Potiguar - UNP</td>\n",
              "      <td>Medicina</td>\n",
              "      <td>6505.09</td>\n",
              "    </tr>\n",
              "    <tr>\n",
              "      <th>32019</th>\n",
              "      <td>RO</td>\n",
              "      <td>Porto Velho</td>\n",
              "      <td>Centro Universitário São Lucas - UniSL</td>\n",
              "      <td>Medicina</td>\n",
              "      <td>6909.97</td>\n",
              "    </tr>\n",
              "    <tr>\n",
              "      <th>33143</th>\n",
              "      <td>RR</td>\n",
              "      <td>Boa VIsta</td>\n",
              "      <td>Faculdade Cathedral - FACES</td>\n",
              "      <td>Odontologia</td>\n",
              "      <td>1463.05</td>\n",
              "    </tr>\n",
              "    <tr>\n",
              "      <th>32022</th>\n",
              "      <td>RS</td>\n",
              "      <td>Caxias do Sul</td>\n",
              "      <td>Universidade de Caxias do Sul - UCS</td>\n",
              "      <td>Medicina</td>\n",
              "      <td>8329.95</td>\n",
              "    </tr>\n",
              "    <tr>\n",
              "      <th>32036</th>\n",
              "      <td>SC</td>\n",
              "      <td>Rio do Sul</td>\n",
              "      <td>Centro Universitário para O Desenvolvimento do...</td>\n",
              "      <td>Medicina</td>\n",
              "      <td>6922.15</td>\n",
              "    </tr>\n",
              "    <tr>\n",
              "      <th>32038</th>\n",
              "      <td>SE</td>\n",
              "      <td>Aracaju</td>\n",
              "      <td>Universidade Tiradentes - UNIT</td>\n",
              "      <td>Medicina</td>\n",
              "      <td>6490.00</td>\n",
              "    </tr>\n",
              "    <tr>\n",
              "      <th>32058</th>\n",
              "      <td>SP</td>\n",
              "      <td>Sao Paulo</td>\n",
              "      <td>Universidade Cidade de São Paulo - UNICID</td>\n",
              "      <td>Medicina</td>\n",
              "      <td>9715.61</td>\n",
              "    </tr>\n",
              "    <tr>\n",
              "      <th>32062</th>\n",
              "      <td>TO</td>\n",
              "      <td>Palmas</td>\n",
              "      <td>Faculdade de Ciências Humanas, Econômicas e da...</td>\n",
              "      <td>Medicina</td>\n",
              "      <td>7800.00</td>\n",
              "    </tr>\n",
              "  </tbody>\n",
              "</table>\n",
              "</div>"
            ],
            "text/plain": [
              "      uf_busca      cidade_busca  ...             nome mensalidade\n",
              "31940       AC        Rio Branco  ...         Medicina     9674.34\n",
              "31941       AL            Maceio  ...         Medicina     7290.00\n",
              "32962       AM            Manaus  ...      Odontologia     2127.05\n",
              "32966       AP            Macapa  ...      Odontologia     3607.62\n",
              "31945       BA  Lauro de Freitas  ...         Medicina     9048.00\n",
              "12916       CE           Crateus  ...       Enfermagem     9836.40\n",
              "31950       DF          Brasilia  ...         Medicina     6757.92\n",
              "31952       ES          Colatina  ...         Medicina     6022.28\n",
              "31957       GO           Goiania  ...         Medicina     6484.47\n",
              "31959       MA        Imperatriz  ...         Medicina     8281.38\n",
              "31983       MG  Sao Joao Del Rei  ...         Medicina     9350.00\n",
              "31987       MS      Campo Grande  ...         Medicina     9999.99\n",
              "31988       MT            Cuiaba  ...         Medicina     9208.00\n",
              "31990       PA             Belem  ...         Medicina     8508.54\n",
              "31995       PB       Joao Pessoa  ...         Medicina     8350.00\n",
              "31997       PE            Olinda  ...         Medicina     7250.00\n",
              "32001       PI          Parnaiba  ...         Medicina     8402.00\n",
              "11916       PR          Curitiba  ...  Educação Física     8466.72\n",
              "32012       RJ         Itaperuna  ...         Medicina     9023.07\n",
              "32017       RN             Natal  ...         Medicina     6505.09\n",
              "32019       RO       Porto Velho  ...         Medicina     6909.97\n",
              "33143       RR         Boa VIsta  ...      Odontologia     1463.05\n",
              "32022       RS     Caxias do Sul  ...         Medicina     8329.95\n",
              "32036       SC        Rio do Sul  ...         Medicina     6922.15\n",
              "32038       SE           Aracaju  ...         Medicina     6490.00\n",
              "32058       SP         Sao Paulo  ...         Medicina     9715.61\n",
              "32062       TO            Palmas  ...         Medicina     7800.00\n",
              "\n",
              "[27 rows x 5 columns]"
            ]
          },
          "metadata": {
            "tags": []
          },
          "execution_count": 41
        }
      ]
    },
    {
      "cell_type": "code",
      "metadata": {
        "colab": {
          "base_uri": "https://localhost:8080/",
          "height": 206
        },
        "id": "g6wlcUCa5xQS",
        "outputId": "586fa163-c619-4cf5-cd02-eb4f4c98ce02"
      },
      "source": [
        "#cursos com mensalidade entre 500 e 1000 reais\n",
        "df[(df.mensalidade > 500) & (df.mensalidade < 1000)][['uf_busca', 'universidade_nome', 'nome', 'mensalidade']].head()"
      ],
      "execution_count": 44,
      "outputs": [
        {
          "output_type": "execute_result",
          "data": {
            "text/html": [
              "<div>\n",
              "<style scoped>\n",
              "    .dataframe tbody tr th:only-of-type {\n",
              "        vertical-align: middle;\n",
              "    }\n",
              "\n",
              "    .dataframe tbody tr th {\n",
              "        vertical-align: top;\n",
              "    }\n",
              "\n",
              "    .dataframe thead th {\n",
              "        text-align: right;\n",
              "    }\n",
              "</style>\n",
              "<table border=\"1\" class=\"dataframe\">\n",
              "  <thead>\n",
              "    <tr style=\"text-align: right;\">\n",
              "      <th></th>\n",
              "      <th>uf_busca</th>\n",
              "      <th>universidade_nome</th>\n",
              "      <th>nome</th>\n",
              "      <th>mensalidade</th>\n",
              "    </tr>\n",
              "  </thead>\n",
              "  <tbody>\n",
              "    <tr>\n",
              "      <th>5</th>\n",
              "      <td>AC</td>\n",
              "      <td>Faculdade Barão do Rio Branco - FAB</td>\n",
              "      <td>Administração</td>\n",
              "      <td>823.22</td>\n",
              "    </tr>\n",
              "    <tr>\n",
              "      <th>9</th>\n",
              "      <td>AC</td>\n",
              "      <td>Faculdade Meta - FAMETA</td>\n",
              "      <td>Administração</td>\n",
              "      <td>522.79</td>\n",
              "    </tr>\n",
              "    <tr>\n",
              "      <th>10</th>\n",
              "      <td>AC</td>\n",
              "      <td>Unama Faculdade da Amazônia de Rio Branco - FM...</td>\n",
              "      <td>Administração</td>\n",
              "      <td>672.15</td>\n",
              "    </tr>\n",
              "    <tr>\n",
              "      <th>13</th>\n",
              "      <td>AL</td>\n",
              "      <td>Faculdade Uninassau Arapiraca</td>\n",
              "      <td>Administração</td>\n",
              "      <td>586.63</td>\n",
              "    </tr>\n",
              "    <tr>\n",
              "      <th>18</th>\n",
              "      <td>AL</td>\n",
              "      <td>Centro Universitário Maurício de Nassau de Mac...</td>\n",
              "      <td>Administração</td>\n",
              "      <td>586.63</td>\n",
              "    </tr>\n",
              "  </tbody>\n",
              "</table>\n",
              "</div>"
            ],
            "text/plain": [
              "   uf_busca  ... mensalidade\n",
              "5        AC  ...      823.22\n",
              "9        AC  ...      522.79\n",
              "10       AC  ...      672.15\n",
              "13       AL  ...      586.63\n",
              "18       AL  ...      586.63\n",
              "\n",
              "[5 rows x 4 columns]"
            ]
          },
          "metadata": {
            "tags": []
          },
          "execution_count": 44
        }
      ]
    },
    {
      "cell_type": "code",
      "metadata": {
        "id": "Sxnp-pMx8FHS"
      },
      "source": [
        ""
      ],
      "execution_count": null,
      "outputs": []
    }
  ]
}